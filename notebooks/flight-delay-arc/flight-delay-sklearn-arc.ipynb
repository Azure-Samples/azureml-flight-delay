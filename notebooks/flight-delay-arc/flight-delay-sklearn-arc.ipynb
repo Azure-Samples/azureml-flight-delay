{
  "cells": [
    {
      "cell_type": "markdown",
      "source": [
        "# Flight Delay Demo - Hybrid ML with Azure Arc"
      ],
      "metadata": {
        "nteract": {
          "transient": {
            "deleting": false
          }
        }
      }
    },
    {
      "cell_type": "markdown",
      "source": [
        "## Setup working directory\r\n",
        "\r\n",
        "The cell below creates our working directory. This will hold our generated scripts."
      ],
      "metadata": {
        "nteract": {
          "transient": {
            "deleting": false
          }
        }
      }
    },
    {
      "cell_type": "code",
      "source": [
        "import os\r\n",
        "\r\n",
        "project_folder = './scripts'\r\n",
        "\r\n",
        "# Working directory\r\n",
        "if not os.path.exists(project_folder):\r\n",
        "    os.makedirs(project_folder)"
      ],
      "outputs": [],
      "execution_count": null,
      "metadata": {
        "collapsed": true,
        "jupyter": {
          "source_hidden": false,
          "outputs_hidden": false
        },
        "nteract": {
          "transient": {
            "deleting": false
          }
        },
        "gather": {
          "logged": 1624408017992
        }
      }
    },
    {
      "cell_type": "markdown",
      "source": [
        "Import and verify the Azure ML SDK version."
      ],
      "metadata": {
        "nteract": {
          "transient": {
            "deleting": false
          }
        }
      }
    },
    {
      "cell_type": "code",
      "source": [
        "# Check core SDK version number\n",
        "import azureml.core\n",
        "\n",
        "print(\"SDK version:\", azureml.core.VERSION)"
      ],
      "outputs": [],
      "execution_count": null,
      "metadata": {
        "gather": {
          "logged": 1624408018243
        }
      }
    },
    {
      "cell_type": "markdown",
      "source": [
        "## Connect to workspace\r\n",
        "In the next cell, we create a new Workspace config object using the `<subscription_id>`, `<resource_group_name>`, and `<workspace_name>`. This will fetch the matching Workspace and prompt you for authentication. Please click on the link and input the provided details.\r\n",
        "\r\n",
        "For more information on **Workspace**, please visit: [Microsoft Workspace Documentation](https://docs.microsoft.com/en-us/python/api/azureml-core/azureml.core.workspace.workspace?view=azure-ml-py)\r\n",
        "\r\n",
        "`<subscription_id>` = You can get this ID from the landing page of your Resource Group.\r\n",
        "\r\n",
        "`<resource_group_name>` = This is the name of your Resource Group.\r\n",
        "\r\n",
        "`<workspace_name>` = This is the name of your Workspace."
      ],
      "metadata": {
        "nteract": {
          "transient": {
            "deleting": false
          }
        }
      }
    },
    {
      "cell_type": "code",
      "source": [
        "from azureml.core.workspace import Workspace\n",
        "\n",
        "try:    \n",
        "    # Get instance of the Workspace and write it to config file\n",
        "    ws = Workspace(\n",
        "        subscription_id = '<subscription_id>', \n",
        "        resource_group = '<resource_group>', \n",
        "        workspace_name = '<workspace_name>')\n",
        "\n",
        "    # Writes workspace config file\n",
        "    ws.write_config()\n",
        "    \n",
        "    print('Library configuration succeeded')\n",
        "except Exception as e:\n",
        "    print(e)\n",
        "    print('Workspace not found')"
      ],
      "outputs": [],
      "execution_count": null,
      "metadata": {
        "gather": {
          "logged": 1624408018593
        }
      }
    },
    {
      "cell_type": "markdown",
      "source": [
        "## Fetch Azure Arc Attached Compute\r\n",
        "\r\n",
        "Fetch the Azure Arc enabled Attached Compute.\r\n",
        "\r\n",
        "For more information on **How to Attach Azure Arc enabled Kubernetes cluster**, please visit: [Microsoft Documentation](https://docs.microsoft.com/en-us/azure/machine-learning/how-to-attach-arc-kubernetes)"
      ],
      "metadata": {
        "nteract": {
          "transient": {
            "deleting": false
          }
        }
      }
    },
    {
      "cell_type": "code",
      "source": [
        "from azureml.core.compute import ComputeTarget\n",
        "from azureml.core.compute_target import ComputeTargetException\n",
        "\n",
        "# choose a name for your cluster\n",
        "cluster_name = \"<attached_compute_name>\"\n",
        "\n",
        "try:\n",
        "    compute_target = ComputeTarget(workspace=ws, name=cluster_name)\n",
        "    print('Found existing compute target')\n",
        "except ComputeTargetException:\n",
        "    print('Please attach the Azure Arc enabled Kubernetes clu...')\n",
        "\n",
        "# use get_status() to get a detailed status for the current cluster. \n",
        "print(compute_target.get_status().serialize())"
      ],
      "outputs": [],
      "execution_count": null,
      "metadata": {
        "gather": {
          "logged": 1624408029974
        }
      }
    },
    {
      "cell_type": "markdown",
      "source": [
        "## Copy files\r\n",
        "\r\n",
        "Copy the necesary files into our project folder."
      ],
      "metadata": {
        "nteract": {
          "transient": {
            "deleting": false
          }
        }
      }
    },
    {
      "cell_type": "code",
      "source": [
        "import shutil\n",
        "\n",
        "shutil.copy('flight-delay-train.py', project_folder)\n",
        "shutil.copy('flightdelayweather_ds_clean.csv', project_folder)"
      ],
      "outputs": [],
      "execution_count": null,
      "metadata": {
        "gather": {
          "logged": 1624408030385
        }
      }
    },
    {
      "cell_type": "markdown",
      "source": [
        "## Create an Experiment\r\n",
        "\r\n",
        "The Experiment constructor allows to create an experiment instance. The constructor takes in the current workspace, which is fetched by calling `Workspace.from_config()` and an experiment name. \r\n",
        "\r\n",
        "The `experiment.submit()` function is called to send the experiment for execution. The only parameter received by this function is the `AutoMLConfig` object instantiated previously in this module.\r\n",
        "\r\n",
        "For more information on **Experiment**, please visit: [Microsoft Experiment Documentation](https://docs.microsoft.com/en-us/python/api/azureml-core/azureml.core.experiment.experiment?view=azure-ml-py)"
      ],
      "metadata": {
        "nteract": {
          "transient": {
            "deleting": false
          }
        }
      }
    },
    {
      "cell_type": "code",
      "source": [
        "from azureml.core import Experiment\n",
        "\n",
        "experiment_name = 'flight-delay-exp-arc'\n",
        "experiment = Experiment(ws, name=experiment_name)"
      ],
      "outputs": [],
      "execution_count": null,
      "metadata": {
        "gather": {
          "logged": 1624408030500
        }
      }
    },
    {
      "cell_type": "markdown",
      "source": [
        "## Write Conda Dependencies file\n",
        "\n",
        "The dependencies file allows us to define the libraries to be included in the training environment."
      ],
      "metadata": {
        "nteract": {
          "transient": {
            "deleting": false
          }
        }
      }
    },
    {
      "cell_type": "code",
      "source": [
        "%%writefile conda_dependencies.yml\n",
        "\n",
        "dependencies:\n",
        "- python=3.6.2\n",
        "- scikit-learn\n",
        "- pip:\n",
        "  - matplotlib\n",
        "  - seaborn\n",
        "  - azureml-defaults"
      ],
      "outputs": [],
      "execution_count": null,
      "metadata": {}
    },
    {
      "cell_type": "markdown",
      "source": [
        "## Create Script Configuration\r\n",
        "\r\n",
        "The `ScriptRunConfig` will setup the training details for the Hybrid ML Training to take place.\r\n",
        "\r\n",
        "For more information on **ScriptRunConfig**, please visit: [Microsoft RunDetails Documentation](https://docs.microsoft.com/en-us/python/api/azureml-core/azureml.core.scriptrunconfig?view=azure-ml-py)\r\n"
      ],
      "metadata": {
        "nteract": {
          "transient": {
            "deleting": false
          }
        }
      }
    },
    {
      "cell_type": "code",
      "source": [
        "from azureml.core import ScriptRunConfig\n",
        "from azureml.core import Environment\n",
        "\n",
        "sklearn_env = Environment.from_conda_specification(name = 'sklearn-env', file_path = './conda_dependencies.yml')\n",
        "src = ScriptRunConfig(source_directory=project_folder,\n",
        "                      script='flight-delay-train.py',\n",
        "                      compute_target=compute_target,\n",
        "                      environment=sklearn_env)"
      ],
      "outputs": [],
      "execution_count": null,
      "metadata": {
        "gather": {
          "logged": 1624408031155
        }
      }
    },
    {
      "cell_type": "markdown",
      "source": [
        "## Show Run Details\r\n",
        "\r\n",
        "The `RunDetails()` function will retrieve the progress, metrics, and tasks for the specified run. They will be displayed by calling the function `show()` over the mentioned object.\r\n",
        "\r\n",
        "For more information on **RunDetails**, please visit: [Microsoft RunDetails Documentation](https://docs.microsoft.com/en-us/python/api/azureml-widgets/azureml.widgets.rundetails?view=azure-ml-py)\r\n",
        "\r\n",
        "\r\n",
        "**Note:** Please wait for the execution of the cell to finish before moving forward. (Status should be **Completed**)"
      ],
      "metadata": {
        "nteract": {
          "transient": {
            "deleting": false
          }
        }
      }
    },
    {
      "cell_type": "code",
      "source": [
        "from azureml.widgets import RunDetails\r\n",
        "\r\n",
        "run = experiment.submit(src)\r\n",
        "RunDetails(run).show()"
      ],
      "outputs": [],
      "execution_count": null,
      "metadata": {
        "gather": {
          "logged": 1624408036497
        }
      }
    },
    {
      "cell_type": "code",
      "source": [
        "run.wait_for_completion(show_output=True)"
      ],
      "outputs": [],
      "execution_count": null,
      "metadata": {
        "gather": {
          "logged": 1624408152837
        }
      }
    }
  ],
  "metadata": {
    "index_order": 1,
    "exclude_from_index": false,
    "task": "Train a support vector machine (SVM) to perform classification",
    "deployment": [
      "None"
    ],
    "authors": [
      {
        "name": "nagaur"
      }
    ],
    "microsoft": {
      "host": {
        "AzureML": {
          "notebookHasBeenCompleted": true
        }
      }
    },
    "kernel_info": {
      "name": "python3-azureml"
    },
    "msauthor": "dipeck",
    "language_info": {
      "name": "python",
      "version": "3.6.9",
      "mimetype": "text/x-python",
      "codemirror_mode": {
        "name": "ipython",
        "version": 3
      },
      "pygments_lexer": "ipython3",
      "nbconvert_exporter": "python",
      "file_extension": ".py"
    },
    "compute": [
      "AML Compute"
    ],
    "kernelspec": {
      "name": "python3-azureml",
      "language": "python",
      "display_name": "Python 3.6 - AzureML"
    },
    "tags": [
      "None"
    ],
    "datasets": [
      "Iris"
    ],
    "category": "training",
    "framework": [
      "Scikit-learn"
    ],
    "friendly_name": "Training and hyperparameter tuning with Scikit-learn",
    "nteract": {
      "version": "nteract-front-end@1.0.0"
    }
  },
  "nbformat": 4,
  "nbformat_minor": 2
}