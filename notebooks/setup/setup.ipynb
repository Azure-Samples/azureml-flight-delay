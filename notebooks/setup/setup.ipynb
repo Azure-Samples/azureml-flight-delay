{
  "cells": [
    {
      "cell_type": "markdown",
      "source": [
        "# Connect to Workspace\n",
        "\n",
        "Connect to your AML workspace."
      ],
      "metadata": {
        "nteract": {
          "transient": {
            "deleting": false
          }
        }
      }
    },
    {
      "cell_type": "code",
      "execution_count": null,
      "source": [
        "from azureml.core.workspace import Workspace\r\n",
        "\r\n",
        "try:    \r\n",
        "    # Get instance of the Workspace and write it to config file\r\n",
        "    ws = Workspace(\r\n",
        "        subscription_id = '<subscription_id>', \r\n",
        "        resource_group = '<resource_group>', \r\n",
        "        workspace_name = '<workspace_name>')\r\n",
        "\r\n",
        "    # Writes workspace config file\r\n",
        "    ws.write_config()\r\n",
        "    \r\n",
        "    print('Library configuration succeeded')\r\n",
        "except Exception as e:\r\n",
        "    print(e)\r\n",
        "    print('Workspace not found')"
      ],
      "outputs": [],
      "metadata": {
        "gather": {
          "logged": 1628528449504
        }
      }
    },
    {
      "cell_type": "markdown",
      "source": [
        "# Upload files to datastore\n",
        "\n",
        "Load the datasets into blob storage."
      ],
      "metadata": {
        "nteract": {
          "transient": {
            "deleting": false
          }
        }
      }
    },
    {
      "cell_type": "code",
      "execution_count": null,
      "source": [
        "ds = ws.get_default_datastore()\r\n",
        "ds.upload('../../azureStorageFiles')"
      ],
      "outputs": [],
      "metadata": {
        "collapsed": true,
        "jupyter": {
          "source_hidden": false,
          "outputs_hidden": false
        },
        "nteract": {
          "transient": {
            "deleting": false
          }
        },
        "gather": {
          "logged": 1628529463802
        }
      }
    },
    {
      "cell_type": "markdown",
      "source": [
        "# Load files to tabular Dataset\n",
        "\n",
        "A range of datasets are used to support different parts of the demo."
      ],
      "metadata": {
        "nteract": {
          "transient": {
            "deleting": false
          }
        }
      }
    },
    {
      "cell_type": "code",
      "execution_count": 9,
      "source": [
        "from azureml.core import Dataset\r\n",
        "\r\n",
        "airports = Dataset.Tabular.from_delimited_files(path=[(ds, 'airports.csv')])\r\n",
        "carriersdataset = Dataset.Tabular.from_delimited_files(path=[(ds, 'carriersdataset.csv')])\r\n",
        "flight_dataset_2008 = Dataset.Tabular.from_delimited_files(path=[(ds, 'flight_dataset_2008.csv')])\r\n",
        "plane_data = Dataset.Tabular.from_delimited_files(path=[(ds, 'plane-data.csv')])\r\n",
        "flightdelayweather_ds_clean = Dataset.Tabular.from_delimited_files(path=[(ds, 'flightdelayweather_ds_clean.csv')])\r\n",
        "flight_dataset_2008_with_weather = Dataset.Tabular.from_delimited_files(path=[(ds, 'flight_dataset_2008_with_weather.csv')])"
      ],
      "outputs": [],
      "metadata": {
        "collapsed": true,
        "jupyter": {
          "source_hidden": false,
          "outputs_hidden": false
        },
        "nteract": {
          "transient": {
            "deleting": false
          }
        },
        "gather": {
          "logged": 1628530036639
        }
      }
    },
    {
      "cell_type": "markdown",
      "source": [
        "# Register Datasets to Workspace\n",
        "\n",
        "By registering the datasets, we can link experiment runs to them throughout the demo series."
      ],
      "metadata": {
        "nteract": {
          "transient": {
            "deleting": false
          }
        }
      }
    },
    {
      "cell_type": "code",
      "execution_count": 11,
      "source": [
        "airports_ds = airports.register(workspace=ws, name='airports_ds', create_new_version=True)\r\n",
        "flightdelayweather_ds = flight_dataset_2008_with_weather.register(workspace=ws, name='flightdelayweather_ds', create_new_version=True)\r\n",
        "carriers_ds = carriersdataset.register(workspace=ws, name='carriers_ds', create_new_version=True)\r\n",
        "flightdelay_ds_raw = flight_dataset_2008.register(workspace=ws, name='flightdelay_ds_raw', create_new_version=True)\r\n",
        "flightdelay_ds = flight_dataset_2008_with_weather.register(workspace=ws, name='flightdelay_ds', create_new_version=True)\r\n",
        "flight_dataset_2008_with_weather = flight_dataset_2008_with_weather.register(workspace=ws, name='flight_dataset_2008_with_weather', create_new_version=True)\r\n",
        "flightdelayweather_ds_clean = flightdelayweather_ds_clean.register(workspace=ws, name='flightdelayweather_ds_clean', create_new_version=True)\r\n"
      ],
      "outputs": [],
      "metadata": {
        "collapsed": true,
        "jupyter": {
          "source_hidden": false,
          "outputs_hidden": false
        },
        "nteract": {
          "transient": {
            "deleting": false
          }
        },
        "gather": {
          "logged": 1628530430623
        }
      }
    },
    {
      "cell_type": "markdown",
      "source": [
        "# Build Docker Image for Flight Delay DL Notebook\n",
        "\n",
        "A custom Docker image has been prepared for the deep learning scenario. It contains additional components for building the object detection model.\n",
        "\n",
        "Make sure to update your container registry name below before running the command."
      ],
      "metadata": {
        "nteract": {
          "transient": {
            "deleting": false
          }
        }
      }
    },
    {
      "cell_type": "code",
      "execution_count": null,
      "source": [
        "!az acr build --image aml/dl-image:v1 --registry [your registry name] --file ../../docker/Dockerfile ../../docker\n"
      ],
      "outputs": [],
      "metadata": {
        "collapsed": true,
        "jupyter": {
          "source_hidden": false,
          "outputs_hidden": false
        },
        "nteract": {
          "transient": {
            "deleting": false
          }
        }
      }
    },
    {
      "cell_type": "markdown",
      "source": [
        "# Create AML Cluster\n",
        "\n",
        "A CPU cluster is recommended for remote training."
      ],
      "metadata": {
        "nteract": {
          "transient": {
            "deleting": false
          }
        }
      }
    },
    {
      "cell_type": "code",
      "execution_count": null,
      "source": [
        "from azureml.core.compute import ComputeTarget, AmlCompute\r\n",
        "from azureml.core.compute_target import ComputeTargetException\r\n",
        "\r\n",
        "### Create AML CPU Compute Cluster\r\n",
        "\r\n",
        "try:\r\n",
        "    compute_target = ComputeTarget(workspace=ws, name='cpucluster')\r\n",
        "    print('Found existing compute target.')\r\n",
        "except ComputeTargetException:\r\n",
        "    print('Creating a new compute target...')\r\n",
        "    compute_config = AmlCompute.provisioning_configuration(vm_size='Standard_DS12_v2',\r\n",
        "                                                           max_nodes=4)\r\n",
        "\r\n",
        "    # create the cluster\r\n",
        "    compute_target = ComputeTarget.create(ws, 'cpucluster', compute_config)\r\n",
        "\r\n",
        "    compute_target.wait_for_completion(show_output=True)"
      ],
      "outputs": [],
      "metadata": {
        "collapsed": true,
        "jupyter": {
          "source_hidden": false,
          "outputs_hidden": false
        },
        "nteract": {
          "transient": {
            "deleting": false
          }
        },
        "gather": {
          "logged": 1628532481602
        }
      }
    },
    {
      "cell_type": "markdown",
      "source": [
        "# Create GPU Cluster\n",
        "\n",
        "A GPU cluster is recommended for the deep learning scenario."
      ],
      "metadata": {
        "nteract": {
          "transient": {
            "deleting": false
          }
        }
      }
    },
    {
      "cell_type": "code",
      "execution_count": null,
      "source": [
        "# Choose a name for your GPU cluster\r\n",
        "cluster_name = \"gpucluster\"\r\n",
        "\r\n",
        "try:\r\n",
        "    gpu_cluster = ComputeTarget(workspace = ws, name = cluster_name)\r\n",
        "except ComputeTargetException:\r\n",
        "    compute_config = AmlCompute.provisioning_configuration(vm_size='STANDARD_NC6',\r\n",
        "                                                           min_nodes=0,\r\n",
        "                                                           max_nodes=4,\r\n",
        "                                                           admin_username=\"theadmin\",\r\n",
        "                                                           admin_user_password=\"Password123\")\r\n",
        "                                                           \r\n",
        "    gpu_cluster = ComputeTarget.create(ws, cluster_name, compute_config)\r\n",
        "\r\n",
        "gpu_cluster.wait_for_completion(show_output=True)"
      ],
      "outputs": [],
      "metadata": {
        "collapsed": true,
        "jupyter": {
          "source_hidden": false,
          "outputs_hidden": false
        },
        "nteract": {
          "transient": {
            "deleting": false
          }
        },
        "gather": {
          "logged": 1628540132872
        }
      }
    },
    {
      "cell_type": "markdown",
      "source": [
        "# Create simple AutoML Run\n",
        "\n",
        "This run will ensure there is run history when showcasing the AutoML UX. It will also be called from Power BI (see next step)."
      ],
      "metadata": {
        "nteract": {
          "transient": {
            "deleting": false
          }
        }
      }
    },
    {
      "cell_type": "code",
      "execution_count": null,
      "source": [
        "from azureml.train.automl import AutoMLConfig\r\n",
        "from azureml.core.experiment import Experiment\r\n",
        "from azureml.train.automl.run import AutoMLRun \r\n",
        "from azureml.widgets import RunDetails\r\n",
        "import os\r\n",
        "\r\n",
        "project_folder = './scripts'\r\n",
        "# Working directory\r\n",
        "if not os.path.exists(project_folder):\r\n",
        "    os.makedirs(project_folder)\r\n",
        "\r\n",
        "tabular = Dataset.get_by_name(ws, 'flightdelayweather_ds')\r\n",
        "\r\n",
        "data = tabular.to_pandas_dataframe()\r\n",
        "training_data, validation_data = tabular.random_split(percentage=0.9, seed=1)\r\n",
        "\r\n",
        "automl_config = AutoMLConfig(task = 'classification',\r\n",
        "                             iterations = 3,\r\n",
        "                             iteration_timeout_minutes = 30, \r\n",
        "                             max_cores_per_iteration = 10,\r\n",
        "                             primary_metric = 'accuracy',\r\n",
        "                             debug_log = 'automl.log',\r\n",
        "                             training_data = training_data,\r\n",
        "                             validation_data = validation_data,\r\n",
        "                             label_column_name = \"ArrDelay15\",\r\n",
        "                             compute_target = compute_target,\r\n",
        "                             path = project_folder,\r\n",
        "                             model_explainability = True,\r\n",
        "                             experiment_exit_score = 0.8,\r\n",
        "                             enable_early_stopping = True,\r\n",
        "                             enable_onnx_compatible_models=True)\r\n",
        "\r\n",
        "# Get an instance of the Workspace from the config file\r\n",
        "ws = Workspace.from_config()\r\n",
        "\r\n",
        "# Create Experiment\r\n",
        "experiment = Experiment(ws, 'flight-delay-exp')\r\n",
        "remote_run = experiment.submit(automl_config, show_output=False)\r\n",
        "remote_run = AutoMLRun(experiment=experiment, run_id=remote_run.id)\r\n",
        "RunDetails(remote_run).show()\r\n"
      ],
      "outputs": [],
      "metadata": {
        "collapsed": true,
        "jupyter": {
          "source_hidden": false,
          "outputs_hidden": false
        },
        "nteract": {
          "transient": {
            "deleting": false
          }
        },
        "gather": {
          "logged": 1628618003014
        }
      }
    },
    {
      "cell_type": "markdown",
      "source": [
        "# Deploy to ACI Instance\n",
        "\n",
        "This service will be used by Power BI for inferencing."
      ],
      "metadata": {
        "nteract": {
          "transient": {
            "deleting": false
          }
        }
      }
    },
    {
      "cell_type": "code",
      "execution_count": null,
      "source": [
        "%%writefile score-new.yml\r\n",
        "name: project_environment\r\n",
        "dependencies:\r\n",
        "- python=3.6.2\r\n",
        "\r\n",
        "- pip:\r\n",
        "  - azureml-sdk[notebooks,automl]~=1.32.0\r\n",
        "  - azureml-defaults~=1.32.0\r\n",
        "  - inference-schema\r\n",
        "  - azureml-monitoring\r\n",
        "  - shap==0.39.0\r\n",
        "- numpy\r\n",
        "- scikit-learn==0.22.1\r\n",
        "channels:\r\n",
        "- anaconda\r\n",
        "- conda-forge"
      ],
      "outputs": [],
      "metadata": {
        "collapsed": true,
        "jupyter": {
          "source_hidden": false,
          "outputs_hidden": false
        },
        "nteract": {
          "transient": {
            "deleting": false
          }
        }
      }
    },
    {
      "cell_type": "code",
      "execution_count": null,
      "source": [
        "%%writefile score.py\r\n",
        "import os\r\n",
        "import pickle\r\n",
        "import json\r\n",
        "import joblib\r\n",
        "import time\r\n",
        "import numpy as np\r\n",
        "import pandas as pd\r\n",
        "import azureml.automl.core\r\n",
        "from azureml.core.model import Model\r\n",
        " \r\n",
        "def init():\r\n",
        "    global model\r\n",
        "    print (\"model initialized\" + time.strftime(\"%H:%M:%S\"))\r\n",
        "    model_path = os.path.join(os.getenv(\"AZUREML_MODEL_DIR\"), \"model.pkl\")\r\n",
        "    model = joblib.load(model_path)\r\n",
        "    \r\n",
        "def run(data):\r\n",
        "    try:\r\n",
        "        data = json.loads(data)[\"data\"]\r\n",
        "        df = pd.DataFrame(data, columns=['Month', 'DayofMonth', 'DayOfWeek', 'CRSDepTime', 'CRSArrTime', 'UniqueCarrier', 'CRSElapsedTime', 'Origin', 'Dest', 'Distance', 'Origin_Lat', 'Origin_Lon', 'Origin_State', 'Dest_Lat', 'Dest_Lon', 'Dest_State', 'Origin_dayl', 'Dest_dayl', 'Origin_prcp', 'Dest_prcp', 'Origin_srad', 'Dest_srad', 'Origin_swe', 'Dest_swe', 'Origin_tmax', 'Dest_tmax', 'Origin_tmin', 'Dest_tmin', 'Origin_vp', 'Dest_vp']) \r\n",
        "        result = model.predict(df)\r\n",
        "    except Exception as e:\r\n",
        "        result = str(e)\r\n",
        "        return {\"error\": result}\r\n",
        "    return {\"result\":result.tolist()}"
      ],
      "outputs": [],
      "metadata": {
        "collapsed": true,
        "jupyter": {
          "source_hidden": false,
          "outputs_hidden": false
        },
        "nteract": {
          "transient": {
            "deleting": false
          }
        }
      }
    },
    {
      "cell_type": "code",
      "execution_count": null,
      "source": [
        "from azureml.core.webservice import AciWebservice, Webservice\r\n",
        "from azureml.core.model import Model, InferenceConfig\r\n",
        "\r\n",
        "remote_run.wait_for_completion()\r\n",
        "best_run, fitted_model = remote_run.get_output()\r\n",
        "model = best_run.register_model(model_name='flight_delay_weather', \r\n",
        "                                model_path='outputs/model.pkl')\r\n",
        "\r\n",
        "inference_config = InferenceConfig(runtime= \"python\",\r\n",
        "                                    entry_script=\"score.py\",\r\n",
        "                                    conda_file=\"score-new.yml\")\r\n",
        "\r\n",
        "deployment_config = AciWebservice.deploy_configuration(cpu_cores = 1, memory_gb = 1)\r\n",
        "service = Model.deploy(ws, \"aciservice\", [model], inference_config, deployment_config)\r\n",
        "service.wait_for_deployment(show_output = True)\r\n",
        "print(service.state)"
      ],
      "outputs": [],
      "metadata": {
        "collapsed": true,
        "jupyter": {
          "source_hidden": false,
          "outputs_hidden": false
        },
        "nteract": {
          "transient": {
            "deleting": false
          }
        },
        "gather": {
          "logged": 1628619384864
        }
      }
    }
  ],
  "metadata": {
    "kernelspec": {
      "name": "python3-azureml",
      "language": "python",
      "display_name": "Python 3.6 - AzureML"
    },
    "language_info": {
      "name": "python",
      "version": "3.6.9",
      "mimetype": "text/x-python",
      "codemirror_mode": {
        "name": "ipython",
        "version": 3
      },
      "pygments_lexer": "ipython3",
      "nbconvert_exporter": "python",
      "file_extension": ".py"
    },
    "kernel_info": {
      "name": "python3-azureml"
    },
    "microsoft": {
      "host": {
        "AzureML": {
          "notebookHasBeenCompleted": true
        }
      }
    },
    "nteract": {
      "version": "nteract-front-end@1.0.0"
    }
  },
  "nbformat": 4,
  "nbformat_minor": 2
}