{
  "cells": [
    {
      "cell_type": "markdown",
      "source": [
        "# Flight Delay Demo - Automated ML, Responsible ML, and ML Pipelines"
      ],
      "metadata": {}
    },
    {
      "cell_type": "markdown",
      "source": [
        "## Install prerequisites\n",
        "\n",
        "Before running the notebook, make sure the correct versions of these libraries are installed."
      ],
      "metadata": {}
    },
    {
      "cell_type": "code",
      "execution_count": null,
      "source": [
        "!pip install seaborn fsspec azureml-train-automl-client encrypted-inference scikit-learn==0.22.1"
      ],
      "outputs": [],
      "metadata": {
        "gather": {
          "logged": 1603828996898
        }
      }
    },
    {
      "cell_type": "code",
      "execution_count": null,
      "source": [
        "!pip install --upgrade fairlearn===0.6.2 azureml-sdk azureml-widgets azureml-train-automl scipy azureml-contrib-notebook azureml-automl-core azureml-explain-model azureml-opendatasets azureml-interpret interpret_community azureml-contrib-interpret"
      ],
      "outputs": [],
      "metadata": {
        "gather": {
          "logged": 1603828996430
        }
      }
    },
    {
      "cell_type": "code",
      "execution_count": null,
      "source": [
        "!pip install powerbiclient"
      ],
      "outputs": [],
      "metadata": {}
    },
    {
      "cell_type": "code",
      "execution_count": null,
      "source": [
        "!pip install --upgrade shap"
      ],
      "outputs": [],
      "metadata": {
        "collapsed": true,
        "jupyter": {
          "source_hidden": false,
          "outputs_hidden": false
        },
        "nteract": {
          "transient": {
            "deleting": false
          }
        }
      }
    },
    {
      "cell_type": "code",
      "execution_count": null,
      "source": [
        "!az extension add --name ml"
      ],
      "outputs": [],
      "metadata": {}
    },
    {
      "cell_type": "code",
      "execution_count": null,
      "source": [
        "import warnings\r\n",
        "warnings.filterwarnings(\"ignore\")\r\n",
        "\r\n",
        "import logging\r\n",
        "logging.basicConfig(level = logging.ERROR)"
      ],
      "outputs": [],
      "metadata": {
        "gather": {
          "logged": 1626960616085
        }
      }
    },
    {
      "cell_type": "markdown",
      "source": [
        "## Setup working directory\n",
        "\n",
        "The cell below creates our working directory. This will hold our generated scripts."
      ],
      "metadata": {}
    },
    {
      "cell_type": "code",
      "execution_count": 5,
      "source": [
        "import os\r\n",
        "\r\n",
        "project_folder = './scripts'\r\n",
        "\r\n",
        "# Working directory\r\n",
        "if not os.path.exists(project_folder):\r\n",
        "    os.makedirs(project_folder)"
      ],
      "outputs": [],
      "metadata": {
        "gather": {
          "logged": 1626988780790
        }
      }
    },
    {
      "cell_type": "markdown",
      "source": [
        "## Write helper file\n"
      ],
      "metadata": {
        "nteract": {
          "transient": {
            "deleting": false
          }
        }
      }
    },
    {
      "cell_type": "code",
      "execution_count": null,
      "source": [
        "%%writefile $project_folder/helper.py\r\n",
        "\r\n",
        "import pandas as pd\r\n",
        "import os\r\n",
        "import shutil\r\n",
        "import sys\r\n",
        "import json\r\n",
        "from azureml.core import Experiment\r\n",
        "from azureml.core.run import Run\r\n",
        "from azureml.core import Workspace\r\n",
        "from azureml.train.automl._azureautomlsettings import AzureAutoMLSettings\r\n",
        "sys.path.append(\"..\")\r\n",
        "\r\n",
        "\r\n",
        "\r\n",
        "def split_data(data_path):\r\n",
        "\r\n",
        "    train_data_path = os.path.join(data_path, \"upload_train_data\")\r\n",
        "    inference_data_path = os.path.join(data_path, \"upload_inference_data\")\r\n",
        "    os.makedirs(train_data_path, exist_ok=True)\r\n",
        "    os.makedirs(inference_data_path, exist_ok=True)\r\n",
        "\r\n",
        "    files_list = [os.path.join(path, f) for path, _, files in os.walk(data_path) for f in files\r\n",
        "                  if path not in (train_data_path, inference_data_path)]\r\n",
        "\r\n",
        "    for file in files_list:\r\n",
        "        file_name = os.path.basename(file)\r\n",
        "        file_extension = os.path.splitext(file_name)[1].lower()\r\n",
        "        df = pd.read_csv(file)\r\n",
        "        train_df, inference_df = df, df\r\n",
        "        train_df.to_csv(os.path.join(train_data_path, file_name), index=None, header=True)\r\n",
        "        inference_df.to_csv(os.path.join(inference_data_path, file_name), index=None, header=True)\r\n",
        "\r\n",
        "    return train_data_path, inference_data_path\r\n",
        "\r\n",
        "def validate_parallel_run_config(parallel_run_config):\r\n",
        "    max_concurrency = 20\r\n",
        "    if (parallel_run_config.process_count_per_node * parallel_run_config.node_count) > max_concurrency:\r\n",
        "        print(\"Please decrease concurrency to maximum of 20 as currently AutoML does not support it.\")\r\n",
        "        raise ValueError(\"node_count*process_count_per_node must be between 1 and max_concurrency {}\"\r\n",
        "                         .format(max_concurrency))\r\n",
        "\r\n",
        "\r\n",
        "def get_automl_environmentx(workspace: Workspace, automl_settings_dict: AzureAutoMLSettings):\r\n",
        "    from azureml.core import RunConfiguration\r\n",
        "    from azureml.train.automl._environment_utilities import modify_run_configuration\r\n",
        "    import logging\r\n",
        "    null_logger = logging.getLogger(\"manymodels_null_logger\")\r\n",
        "    null_logger.addHandler(logging.NullHandler())\r\n",
        "    null_logger.propagate = False\r\n",
        "    automl_settings_obj = AzureAutoMLSettings.from_string_or_dict(\r\n",
        "        automl_settings_dict)\r\n",
        "    run_configuration = modify_run_configuration(\r\n",
        "        automl_settings_obj,\r\n",
        "        RunConfiguration(),\r\n",
        "        logger=null_logger)\r\n",
        "    train_env = run_configuration.environment\r\n",
        "    train_env.environment_variables['DISABLE_ENV_MISMATCH'] = True\r\n",
        "    train_env.environment_variables['AZUREML_FLUSH_INGEST_WAIT'] = ''\r\n",
        "    train_env.environment_variables['AZUREML_METRICS_POLLING_INTERVAL'] = '30'\r\n",
        "    return run_configuration.environment\r\n",
        "\r\n",
        "\r\n",
        "def get_output(run, results_name, output_name):\r\n",
        "    # remove previous run results, if present\r\n",
        "    shutil.rmtree(results_name, ignore_errors=True)\r\n",
        "\r\n",
        "    parallel_run_output_file_name = \"parallel_run_step.txt\"\r\n",
        "\r\n",
        "    # download the contents of the output folder\r\n",
        "    batch_run = next(run.get_children())\r\n",
        "    batch_output = batch_run.get_output_data(output_name)\r\n",
        "    batch_output.download(local_path=results_name)\r\n",
        "\r\n",
        "    keep_root_folder(results_name, results_name)\r\n",
        "    for root, dirs, files in os.walk(results_name):\r\n",
        "        for file in files:\r\n",
        "            if file.endswith(parallel_run_output_file_name):\r\n",
        "                result_file = os.path.join(root, file)\r\n",
        "                break\r\n",
        "\r\n",
        "    return result_file\r\n",
        "\r\n",
        "\r\n",
        "def keep_root_folder(root_path, cur_path):\r\n",
        "    for filename in os.listdir(cur_path):\r\n",
        "        if os.path.isfile(os.path.join(cur_path, filename)):\r\n",
        "            shutil.move(os.path.join(cur_path, filename),\r\n",
        "                        os.path.join(root_path, filename))\r\n",
        "        elif os.path.isdir(os.path.join(cur_path, filename)):\r\n",
        "            keep_root_folder(root_path, os.path.join(cur_path, filename))\r\n",
        "        else:\r\n",
        "            sys.exit(\"No files found.\")\r\n",
        "\r\n",
        "    # remove empty folders\r\n",
        "    if root_path != cur_path:\r\n",
        "        os.rmdir(cur_path)\r\n",
        "    return\r\n",
        "\r\n",
        "def write_automl_settings_to_file(automl_settings):\r\n",
        "    with open('scripts//automlconfig.json', 'w', encoding='utf-8') as f:\r\n",
        "        json.dump(automl_settings, f, ensure_ascii=False, indent=4)\r\n",
        "\r\n",
        "\r\n",
        "def cancel_runs_in_experiment(ws, experiment):\r\n",
        "    failed_experiment = Experiment(ws, experiment)\r\n",
        "    all_runs = failed_experiment.get_runs()\r\n",
        "    for idx, run in enumerate(all_runs):\r\n",
        "        try:\r\n",
        "            if run.status == 'Running':\r\n",
        "                run = Run(failed_experiment, run.id)\r\n",
        "                print('Canceling run: ', run)\r\n",
        "                run.cancel()\r\n",
        "        except Exception as e:\r\n",
        "            print('Canceling run failed due to ', e)\r\n",
        "\r\n",
        "\r\n",
        "def build_parallel_run_config(train_env, compute, nodecount, workercount, timeout):\r\n",
        "    from azureml.pipeline.steps import ParallelRunConfig\r\n",
        "    parallel_run_config = ParallelRunConfig(\r\n",
        "        source_directory='./scripts',\r\n",
        "        entry_script='train_minibatch.py',\r\n",
        "        mini_batch_size=\"1\",  # do not modify this setting\r\n",
        "        run_invocation_timeout=timeout,\r\n",
        "        error_threshold=-1,\r\n",
        "        output_action=\"append_row\",\r\n",
        "        environment=train_env,\r\n",
        "        process_count_per_node=workercount,\r\n",
        "        compute_target=compute,\r\n",
        "        node_count=nodecount)\r\n",
        "    validate_parallel_run_config(parallel_run_config)\r\n",
        "    return parallel_run_config\r\n",
        "\r\n",
        "\r\n",
        "def get_automl_environment(workspace: Workspace, automl_settings_dict: dict):\r\n",
        "    return get_automl_environmentx(workspace, automl_settings_dict)\r\n",
        "\r\n",
        "\r\n",
        "def get_training_output(run, training_results_name, training_output_name):\r\n",
        "    return get_output(run, training_results_name, training_output_name)"
      ],
      "outputs": [],
      "metadata": {}
    },
    {
      "cell_type": "markdown",
      "source": [
        "## Define the training scripts"
      ],
      "metadata": {
        "nteract": {
          "transient": {
            "deleting": false
          }
        }
      }
    },
    {
      "cell_type": "code",
      "execution_count": null,
      "source": [
        "%%writefile $project_folder/train_helper.py\r\n",
        "import argparse\r\n",
        "import os\r\n",
        "import pickle\r\n",
        "\r\n",
        "\r\n",
        "class MetadataFileHandler:\r\n",
        "\r\n",
        "    # Metadata file names\r\n",
        "    ARGS_FILE_NAME = \"args.pkl\"\r\n",
        "    AUTOML_SETTINGS_FILE_NAME = \"automl_settings.pkl\"\r\n",
        "    LOGS_FILE_NAME = \"logs.pkl\"\r\n",
        "    RUN_DTO_FILE_NAME = \"run_dto.pkl\"\r\n",
        "\r\n",
        "    def __init__(self, data_dir):\r\n",
        "        # Directory where metadata files live\r\n",
        "        self.data_dir = data_dir\r\n",
        "\r\n",
        "        # Full paths to metadata files\r\n",
        "        self._args_file_path = os.path.join(self.data_dir, self.ARGS_FILE_NAME)\r\n",
        "        self._automl_settings_file_path = os.path.join(self.data_dir, self.AUTOML_SETTINGS_FILE_NAME)\r\n",
        "        self._logs_file_path = os.path.join(self.data_dir, self.LOGS_FILE_NAME)\r\n",
        "        self._run_dto_file_name = os.path.join(self.data_dir, self.RUN_DTO_FILE_NAME)\r\n",
        "\r\n",
        "    def delete_logs_file_if_exists(self):\r\n",
        "        if not os.path.exists(self._logs_file_path):\r\n",
        "            return\r\n",
        "        os.remove(self._logs_file_path)\r\n",
        "\r\n",
        "    def load_automl_settings(self):\r\n",
        "        return self.load_obj_from_disk(self._automl_settings_file_path)\r\n",
        "\r\n",
        "    def load_args(self):\r\n",
        "        return self.load_obj_from_disk(self._args_file_path)\r\n",
        "\r\n",
        "    def load_logs(self):\r\n",
        "        return self.load_obj_from_disk(self._logs_file_path)\r\n",
        "\r\n",
        "    def load_run_dto(self):\r\n",
        "        return self.load_obj_from_disk(self._run_dto_file_name)\r\n",
        "\r\n",
        "    def write_args_to_disk(self, args):\r\n",
        "        self.serialize_obj_to_disk(args, self._args_file_path)\r\n",
        "\r\n",
        "    def write_automl_settings_to_disk(self, automl_settings):\r\n",
        "        self.serialize_obj_to_disk(automl_settings, self._automl_settings_file_path)\r\n",
        "\r\n",
        "    def write_logs_to_disk(self, logs):\r\n",
        "        self.serialize_obj_to_disk(logs, self._logs_file_path)\r\n",
        "\r\n",
        "    def write_run_dto_to_disk(self, run_dto):\r\n",
        "        self.serialize_obj_to_disk(run_dto, self._run_dto_file_name)\r\n",
        "\r\n",
        "    @classmethod\r\n",
        "    def load_obj_from_disk(cls, file_path):\r\n",
        "        with open(file_path, 'rb') as f:\r\n",
        "            return pickle.load(f)\r\n",
        "\r\n",
        "    @classmethod\r\n",
        "    def serialize_obj_to_disk(cls, obj, file_path):\r\n",
        "        with open(file_path, 'wb') as f:\r\n",
        "            pickle.dump(obj, f)\r\n",
        "\r\n",
        "\r\n",
        "class TrainUtil:\r\n",
        "\r\n",
        "    @staticmethod\r\n",
        "    def str2bool(v):\r\n",
        "\r\n",
        "        if isinstance(v, bool):\r\n",
        "            return v\r\n",
        "        if v.lower() in ('yes', 'true', 't', 'y', '1'):\r\n",
        "            return True\r\n",
        "        elif v.lower() in ('no', 'false', 'f', 'n', '0'):\r\n",
        "            return False\r\n",
        "        else:\r\n",
        "            raise argparse.ArgumentTypeError('Boolean value expected.')"
      ],
      "outputs": [],
      "metadata": {}
    },
    {
      "cell_type": "code",
      "execution_count": null,
      "source": [
        "%%writefile $project_folder/train_minibatch.py\r\n",
        "\r\n",
        "# Copyright (c) Microsoft Corporation. All rights reserved.\r\n",
        "# Licensed under the MIT License.\r\n",
        "\r\n",
        "import argparse\r\n",
        "import json\r\n",
        "import os\r\n",
        "import sys\r\n",
        "import tempfile\r\n",
        "from multiprocessing import current_process\r\n",
        "from pathlib import Path\r\n",
        "from random import randint\r\n",
        "from subprocess import PIPE, Popen\r\n",
        "from time import sleep\r\n",
        "\r\n",
        "import pandas as pd\r\n",
        "from azureml.automl.core.shared import log_server\r\n",
        "from azureml.core import Run\r\n",
        "\r\n",
        "from train_helper import MetadataFileHandler, TrainUtil\r\n",
        "\r\n",
        "\r\n",
        "# This is used by UI to display the many model settings\r\n",
        "many_model_run_properties = {'many_models_run': True}\r\n",
        "\r\n",
        "parser = argparse.ArgumentParser(\"split\")\r\n",
        "parser.add_argument(\"--process_count_per_node\", default=1, type=int, help=\"number of processes per node\")\r\n",
        "parser.add_argument(\r\n",
        "    \"--retrain_failed_models\", default=False, type=TrainUtil.str2bool, help=\"retrain failed models only\")\r\n",
        "\r\n",
        "args, _ = parser.parse_known_args()\r\n",
        "\r\n",
        "\r\n",
        "def read_from_json():\r\n",
        "    full_path = Path(__file__).absolute().parent\r\n",
        "    with open(str(full_path) + \"/automlconfig.json\") as json_file:\r\n",
        "        return json.load(json_file)\r\n",
        "\r\n",
        "\r\n",
        "automl_settings = read_from_json()\r\n",
        "current_step_run = Run.get_context()\r\n",
        "metadata_file_handler = MetadataFileHandler(tempfile.mkdtemp())\r\n",
        "\r\n",
        "target_column = automl_settings.get('label_column_name', None)\r\n",
        "\r\n",
        "print(\"target_column: {}\".format(target_column))\r\n",
        "print(\"retrain_failed_models: {}\".format(args.retrain_failed_models))\r\n",
        "\r\n",
        "\r\n",
        "def init():\r\n",
        "    output_folder = os.path.join(os.environ.get(\"AZ_BATCHAI_INPUT_AZUREML\", \"\"), \"temp/output\")\r\n",
        "    working_dir = os.environ.get(\"AZ_BATCHAI_OUTPUT_logs\", \"\")\r\n",
        "    ip_addr = os.environ.get(\"AZ_BATCHAI_WORKER_IP\", \"\")\r\n",
        "    log_dir = os.path.join(working_dir, \"user\", ip_addr, current_process().name)\r\n",
        "    t_log_dir = Path(log_dir)\r\n",
        "    t_log_dir.mkdir(parents=True, exist_ok=True)\r\n",
        "    automl_settings['many_models'] = True\r\n",
        "    automl_settings['many_models_process_count_per_node'] = args.process_count_per_node\r\n",
        "\r\n",
        "    # Try stopping logging server in the parent minibatch process.\r\n",
        "    # Otherwise, the logging server will progressively consume more and more CPU, leading to\r\n",
        "    # CPU starvation on the box. TODO: diagnose why this happens and fix\r\n",
        "    try:\r\n",
        "        log_server.server.stop()\r\n",
        "    except Exception as e:\r\n",
        "        print(\"Stopping the AutoML logging server in the entry script parent process failed with exception: {}\"\r\n",
        "              .format(e))\r\n",
        "\r\n",
        "    debug_log = automl_settings.get('debug_log', None)\r\n",
        "    if debug_log is not None:\r\n",
        "        automl_settings['debug_log'] = os.path.join(log_dir, debug_log)\r\n",
        "        automl_settings['path'] = tempfile.mkdtemp()\r\n",
        "        print(f\"{__file__}.AutoML debug log:{automl_settings['debug_log']}\")\r\n",
        "\r\n",
        "    # Write metadata files to disk, so they can be consumed by subprocesses that run AutoML\r\n",
        "    metadata_file_handler.write_args_to_disk(args)\r\n",
        "    metadata_file_handler.write_automl_settings_to_disk(automl_settings)\r\n",
        "    metadata_file_handler.write_run_dto_to_disk(current_step_run._client.run_dto)\r\n",
        "\r\n",
        "    print(f\"{__file__}.output_folder:{output_folder}\")\r\n",
        "    print(\"init()\")\r\n",
        "    sleep(randint(1, 120))\r\n",
        "\r\n",
        "\r\n",
        "def run(input_data_files):\r\n",
        "    print(\"Entering run()\")\r\n",
        "    os.makedirs('./outputs', exist_ok=True)\r\n",
        "    resultList = []\r\n",
        "    for input_data_file in input_data_files:\r\n",
        "        print(\"Launch subprocess to run AutoML on the data\")\r\n",
        "        env = os.environ.copy()\r\n",
        "        # Aggressively buffer I/O from the subprocess\r\n",
        "        env['PYTHONUNBUFFERED'] = '0'\r\n",
        "        subprocess = Popen([\r\n",
        "            sys.executable,\r\n",
        "            os.path.join(os.path.dirname(os.path.realpath(__file__)), 'train_model.py'),\r\n",
        "            input_data_file,\r\n",
        "            metadata_file_handler.data_dir], env=env, stdout=PIPE, stderr=PIPE)\r\n",
        "        for line in subprocess.stdout:\r\n",
        "            print(line.decode().rstrip())\r\n",
        "        subprocess.wait()\r\n",
        "        print(\"Subprocess completed with exit code: {}\".format(subprocess.returncode))\r\n",
        "        subprocess_stderr = subprocess.stderr.read().decode().rstrip()\r\n",
        "        if subprocess_stderr:\r\n",
        "            print(\"stderr from subprocess:\\n{}\\n\".format(subprocess_stderr))\r\n",
        "        if subprocess.returncode != 0:\r\n",
        "            raise Exception(\"AutoML training subprocess exited unsuccesffuly with error code: {}\\n\"\r\n",
        "                            \"stderr from subprocess: \\n{}\\n\".format(subprocess.returncode, subprocess_stderr))\r\n",
        "        logs = metadata_file_handler.load_logs()\r\n",
        "        resultList.append(logs)\r\n",
        "        metadata_file_handler.delete_logs_file_if_exists()\r\n",
        "    print(\"Constructing DataFrame from results\")\r\n",
        "    result = pd.DataFrame(data=resultList)\r\n",
        "    print(\"Ending run()\\n\")\r\n",
        "    return result"
      ],
      "outputs": [],
      "metadata": {}
    },
    {
      "cell_type": "code",
      "execution_count": null,
      "source": [
        "%%writefile $project_folder/train_model.py\r\n",
        "\r\n",
        "# Copyright (c) Microsoft Corporation. All rights reserved.\r\n",
        "# Licensed under the MIT License.\r\n",
        "\r\n",
        "from train_helper import MetadataFileHandler\r\n",
        "\r\n",
        "# TODO: Remove once Batch AI has fixed this issue.\r\n",
        "# Exclude mounted blobfuse folders from sys.path, preventing Python from scanning\r\n",
        "# folders in the blob container when resolving import statements. This significantly reduces traffic\r\n",
        "# to the storage account.\r\n",
        "import sys\r\n",
        "sys.path = [p for p in sys.path if not p.startswith('/mnt/batch')]\r\n",
        "\r\n",
        "import datetime  # noqa: E402\r\n",
        "import hashlib  # noqa: E402\r\n",
        "import os  # noqa: E402\r\n",
        "\r\n",
        "import pandas as pd  # noqa: E402\r\n",
        "from azureml.automl.core.shared import constants  # noqa: E402\r\n",
        "from azureml.automl.core.shared.exceptions import AutoMLException, ClientException, ErrorTypes  # noqa: E402\r\n",
        "from azureml.automl.core.shared.utilities import get_error_code  # noqa: E402\r\n",
        "from azureml.core import Run  # noqa: E402\r\n",
        "from azureml.core.model import Model  # noqa: E402\r\n",
        "from azureml.train.automl import AutoMLConfig  # noqa: E402\r\n",
        "\r\n",
        "\r\n",
        "# This is used by UI to display the many model settings\r\n",
        "many_model_run_properties = {'many_models_run': True}\r\n",
        "\r\n",
        "\r\n",
        "def compose_logs(file_name, model, start_time):\r\n",
        "    logs = []\r\n",
        "    logs.append('AutoML')\r\n",
        "    logs.append(file_name)\r\n",
        "    logs.append(None)\r\n",
        "    logs.append(None)\r\n",
        "    logs.append(model.name)\r\n",
        "    logs.append(model.tags)\r\n",
        "    logs.append(start_time)\r\n",
        "    logs.append(datetime.datetime.now())\r\n",
        "    logs.append(None)\r\n",
        "    logs.append(None)\r\n",
        "    logs.append(None)\r\n",
        "    return logs\r\n",
        "\r\n",
        "\r\n",
        "def train_model(file_path, data, automl_settings, current_step_run):\r\n",
        "    file_name = file_path.split('/')[-1][:-4]\r\n",
        "    print(file_name)\r\n",
        "    print(\"in train_model\")\r\n",
        "    print('data')\r\n",
        "    print(data.head(5))\r\n",
        "    print(automl_settings)\r\n",
        "    automl_config = AutoMLConfig(training_data=data, **automl_settings)\r\n",
        "\r\n",
        "    print(\"submit_child\")\r\n",
        "    local_run = current_step_run.submit_child(automl_config, show_output=True)\r\n",
        "\r\n",
        "    local_run.add_properties({\r\n",
        "        k: str(many_model_run_properties[k])\r\n",
        "        for k in many_model_run_properties\r\n",
        "    })\r\n",
        "\r\n",
        "    print(local_run)\r\n",
        "\r\n",
        "    best_child_run, fitted_model = local_run.get_output()\r\n",
        "\r\n",
        "    return fitted_model, local_run, best_child_run\r\n",
        "\r\n",
        "\r\n",
        "def run(file_path, args, automl_settings, current_step_run):\r\n",
        "    model_name = None\r\n",
        "    current_run = None\r\n",
        "    error_message = None\r\n",
        "    error_code = None\r\n",
        "    error_type = None\r\n",
        "    tags_dict = None\r\n",
        "\r\n",
        "    logs = []\r\n",
        "    date1 = datetime.datetime.now()\r\n",
        "    print('start (' + file_path + ') ' + str(datetime.datetime.now()))\r\n",
        "\r\n",
        "    file_name_with_extension = os.path.basename(file_path)\r\n",
        "    file_name, file_extension = os.path.splitext(file_name_with_extension)\r\n",
        "\r\n",
        "    try:\r\n",
        "        if file_extension.lower() == \".parquet\":\r\n",
        "            data = pd.read_parquet(file_path)\r\n",
        "        else:\r\n",
        "            data = pd.read_csv(file_path)\r\n",
        "\r\n",
        "        tags_dict = {'ModelType': 'AutoML'}\r\n",
        "\r\n",
        "        if args.retrain_failed_models:\r\n",
        "            print('querying for existing models')\r\n",
        "            try:\r\n",
        "                tags = [[k, v] for k, v in tags_dict.items()]\r\n",
        "                models = Model.list(current_step_run.experiment.workspace, tags=tags, latest=True)\r\n",
        "\r\n",
        "                if models:\r\n",
        "                    print(\"model already exists for the dataset \" + models[0].name)\r\n",
        "                    return compose_logs(file_name, models[0], date1)\r\n",
        "            except Exception as error:\r\n",
        "                print('Failed to list the models. ' + 'Error message: ' + str(error))\r\n",
        "\r\n",
        "        tags_dict.update({'InputData': file_name_with_extension})\r\n",
        "        tags_dict.update({'StepRunId': current_step_run.id})\r\n",
        "        tags_dict.update({'RunId': current_step_run.parent.id})\r\n",
        "\r\n",
        "        # train model\r\n",
        "        many_model_run_properties['many_models_input_file'] = file_name_with_extension\r\n",
        "\r\n",
        "        fitted_model, current_run, best_child_run = train_model(file_path, data, automl_settings, current_step_run)\r\n",
        "        model_string = '_'.join(file_name)\r\n",
        "        print(\"model string to encode \" + model_string)\r\n",
        "        sha = hashlib.sha256()\r\n",
        "        sha.update(model_string.encode())\r\n",
        "        model_name = 'automl_' + sha.hexdigest()\r\n",
        "        tags_dict.update({'Hash': sha.hexdigest()})\r\n",
        "        try:\r\n",
        "            print('done training')\r\n",
        "            print('Trained best model ' + model_name)\r\n",
        "\r\n",
        "            print(best_child_run)\r\n",
        "            print(fitted_model)\r\n",
        "            print(model_name)\r\n",
        "\r\n",
        "            print('register model')\r\n",
        "\r\n",
        "            best_child_run.register_model(\r\n",
        "                model_name=model_name, model_path=constants.MODEL_PATH, description='AutoML', tags=tags_dict)\r\n",
        "            print('Registered ' + model_name)\r\n",
        "        except Exception as error:\r\n",
        "            error_type = ErrorTypes.Unclassified\r\n",
        "            error_message = 'Failed to register the model. ' + 'Error message: ' + str(error)\r\n",
        "            print(error_message)\r\n",
        "\r\n",
        "        date2 = datetime.datetime.now()\r\n",
        "\r\n",
        "        logs.append('AutoML')\r\n",
        "        logs.append(file_name)\r\n",
        "        logs.append(current_run.id)\r\n",
        "        logs.append(current_run.get_status())\r\n",
        "        logs.append(model_name)\r\n",
        "        logs.append(tags_dict)\r\n",
        "        logs.append(str(date1))\r\n",
        "        logs.append(str(date2))\r\n",
        "        logs.append(error_type)\r\n",
        "        logs.append(error_code)\r\n",
        "        logs.append(error_message)\r\n",
        "\r\n",
        "        print('ending (' + file_path + ') ' + str(date2))\r\n",
        "\r\n",
        "    # 10.1 Log the error message if an exception occurs\r\n",
        "    except (ClientException, AutoMLException) as error:\r\n",
        "        date2 = datetime.datetime.now()\r\n",
        "        error_message = 'Failed to train the model. ' + 'Error : ' + str(error)\r\n",
        "\r\n",
        "        logs.append('AutoML')\r\n",
        "        logs.append(file_name)\r\n",
        "\r\n",
        "        if current_run:\r\n",
        "            logs.append(current_run.id)\r\n",
        "            logs.append(current_run.get_status())\r\n",
        "        else:\r\n",
        "            logs.append(current_run)\r\n",
        "            logs.append('Failed')\r\n",
        "\r\n",
        "        logs.append(model_name)\r\n",
        "        logs.append(tags_dict)\r\n",
        "        logs.append(str(date1))\r\n",
        "        logs.append(str(date2))\r\n",
        "        if isinstance(error, AutoMLException):\r\n",
        "            logs.append(error.error_type)\r\n",
        "        else:\r\n",
        "            logs.append(None)\r\n",
        "        logs.append(get_error_code(error))\r\n",
        "        logs.append(error_message)\r\n",
        "\r\n",
        "        print(error_message)\r\n",
        "        print('ending (' + file_path + ') ' + str(date2))\r\n",
        "\r\n",
        "    return logs\r\n",
        "\r\n",
        "\r\n",
        "if __name__ == '__main__':\r\n",
        "    data_file_path = sys.argv[1]\r\n",
        "    data_dir = sys.argv[2]\r\n",
        "    metadata_file_handler = MetadataFileHandler(data_dir)\r\n",
        "    args = metadata_file_handler.load_args()\r\n",
        "    automl_settings = metadata_file_handler.load_automl_settings()\r\n",
        "    run_dto = metadata_file_handler.load_run_dto()\r\n",
        "    experiment, run_id = Run._load_scope()\r\n",
        "    current_step_run = Run(experiment, run_id, _run_dto=run_dto)\r\n",
        "    logs = run(data_file_path, args, automl_settings, current_step_run)\r\n",
        "    metadata_file_handler.write_logs_to_disk(logs)"
      ],
      "outputs": [],
      "metadata": {}
    },
    {
      "cell_type": "markdown",
      "source": [
        "# Getting started\r\n",
        "\r\n",
        "Import and verify the Azure ML SDK version (currently 1.32.0)."
      ],
      "metadata": {}
    },
    {
      "cell_type": "code",
      "execution_count": null,
      "source": [
        "import azureml.core\r\n",
        "\r\n",
        "azureml.core.VERSION"
      ],
      "outputs": [],
      "metadata": {
        "gather": {
          "logged": 1626988795206
        }
      }
    },
    {
      "cell_type": "markdown",
      "source": [
        "## Power BI\n",
        "In the next cell, we load a Report object using the `DeviceCodeLoginAuthentication`, `<group_id>`, and `<report_id>`. \n",
        "\n",
        "For more information on **Reports**, please visit: [Microsoft Reports Documentation](https://docs.microsoft.com/en-us/rest/api/power-bi/reports/getreportingroup)\n",
        "\n",
        "To retrieve `<report_id>` and `<group_id>`:\n",
        "\n",
        "`<report_id>` = Go to [Microsoft Power BI](http://app.powerbi.com) and log in. Go to the Power BI report and get the report ID.\n",
        "\n",
        "`<group_id>` = Go to [Microsoft Power BI](http://app.powerbi.com) and log in. Click on a Workspace and extract the ID from the url.\n"
      ],
      "metadata": {}
    },
    {
      "cell_type": "code",
      "execution_count": null,
      "source": [
        "from powerbiclient import Report, models\r\n",
        "from powerbiclient.authentication import DeviceCodeLoginAuthentication\r\n",
        "\r\n",
        "# Initiate device authentication\r\n",
        "device_auth = DeviceCodeLoginAuthentication()\r\n",
        "report_id='<report_id>'\r\n",
        "group_id='<group_id>'"
      ],
      "outputs": [],
      "metadata": {
        "gather": {
          "logged": 1626988819723
        }
      }
    },
    {
      "cell_type": "code",
      "execution_count": null,
      "source": [
        "report = Report(group_id=group_id, report_id=report_id, auth=device_auth)\r\n",
        "report"
      ],
      "outputs": [],
      "metadata": {
        "gather": {
          "logged": 1626988823635
        }
      }
    },
    {
      "cell_type": "markdown",
      "source": [
        "## Connect to Workspace\r\n",
        "\r\n",
        "In the next cell, we create a new Workspace config object using the `<subscription_id>`, `<resource_group_name>`, and `<workspace_name>`. This will fetch the matching Workspace and prompt you for authentication. Please click on the link and input the provided details.\r\n",
        "\r\n",
        "For more information on **Workspace**, please visit: [Microsoft Workspace Documentation](https://docs.microsoft.com/en-us/python/api/azureml-core/azureml.core.workspace.workspace?view=azure-ml-py)\r\n",
        "\r\n",
        "`<subscription_id>` = You can get this ID from the landing page of your Resource Group.\r\n",
        "\r\n",
        "`<resource_group_name>` = This is the name of your Resource Group.\r\n",
        "\r\n",
        "`<workspace_name>` = This is the name of your Workspace."
      ],
      "metadata": {}
    },
    {
      "cell_type": "code",
      "execution_count": null,
      "source": [
        "from azureml.core.workspace import Workspace\r\n",
        "\r\n",
        "try:    \r\n",
        "    # Get instance of the Workspace and write it to config file\r\n",
        "    ws = Workspace(\r\n",
        "        subscription_id = '<subscription_id>', \r\n",
        "        resource_group = '<resource_group>', \r\n",
        "        workspace_name = '<workspace_name>')\r\n",
        "\r\n",
        "    # Writes workspace config file\r\n",
        "    ws.write_config()\r\n",
        "    \r\n",
        "    print('Library configuration succeeded')\r\n",
        "except Exception as e:\r\n",
        "    print(e)\r\n",
        "    print('Workspace not found')"
      ],
      "outputs": [],
      "metadata": {
        "gather": {
          "logged": 1626988827361
        }
      }
    },
    {
      "cell_type": "markdown",
      "source": [
        "## Load Data from Azure Dataset Registry\r\n",
        "\r\n",
        "First step is to get our data using the Dataset module, the function `Dataset.get_by_name()` returns a registered Dataset from a given `workspace` and its registration `name`.\r\n",
        "\r\n",
        "`workspace` = The existing AzureML workspace in which the Dataset was registered..\r\n",
        "\r\n",
        "`name` = The registration name.\r\n",
        "\r\n",
        "`dataframe.take() ` = Function returns the elements in the given positional indices along an axis. \r\n",
        "\r\n",
        "For more information on **Dataset**, please visit: [Microsoft Dataset Documentation](https://docs.microsoft.com/en-us/python/api/azureml-core/azureml.core.dataset.dataset?view=azure-ml-py#get-by-name-workspace--name--version--latest--)\r\n"
      ],
      "metadata": {}
    },
    {
      "cell_type": "code",
      "execution_count": null,
      "source": [
        "from azureml.core import Dataset\r\n",
        "\r\n",
        "tabular = Dataset.get_by_name(ws, 'flightdelayweather_ds')\r\n",
        "\r\n",
        "data = tabular.to_pandas_dataframe()\r\n",
        "tabular.take(3).to_pandas_dataframe()"
      ],
      "outputs": [],
      "metadata": {
        "gather": {
          "logged": 1626988834956
        }
      }
    },
    {
      "cell_type": "markdown",
      "source": [
        "## Create AML Compute Cluster\r\n",
        "\r\n",
        "Firstly, check for the existence of the cluster. If it already exists, we are able to reuse it. Checking for the existence of the cluster can be performed by calling the constructor `ComputeTarget()` with the current workspace and name of the cluster.\r\n",
        "\r\n",
        "In case the cluster does not exist, the next step will be to provide a configuration for the new AML cluster by calling the function `AmlCompute.provisioning_configuration()`. It takes as parameters the VM size and the max number of nodes that the cluster can scale up to. After the configuration has executed, `ComputeTarget.create()` should be called with the previously configuration object and the workspace object.\r\n",
        "\r\n",
        "For more information on **ComputeTarget**, please visit: [Microsoft ComputeTarget Documentation](https://docs.microsoft.com/en-us/python/api/azureml-core/azureml.core.compute.computetarget?view=azure-ml-py)\r\n",
        "\r\n",
        "For more information on **AmlCompute**, please visit: [Microsoft AmlCompute Documentation](https://docs.microsoft.com/en-us/python/api/azureml-core/azureml.core.compute.akscompute?view=azure-ml-py)\r\n",
        "\r\n",
        "\r\n",
        "**Note:** Please wait for the execution of the cell to finish before moving forward."
      ],
      "metadata": {}
    },
    {
      "cell_type": "code",
      "execution_count": null,
      "source": [
        "from azureml.core.compute import ComputeTarget, AmlCompute\r\n",
        "from azureml.core.compute_target import ComputeTargetException\r\n",
        "\r\n",
        "### Create AML CPU Compute Cluster\r\n",
        "\r\n",
        "try:\r\n",
        "    compute_target = ComputeTarget(workspace=ws, name='cpucluster')\r\n",
        "    print('Found existing compute target.')\r\n",
        "except ComputeTargetException:\r\n",
        "    print('Creating a new compute target...')\r\n",
        "    compute_config = AmlCompute.provisioning_configuration(vm_size='Standard_DS12_v2',\r\n",
        "                                                           max_nodes=4)\r\n",
        "\r\n",
        "    # create the cluster\r\n",
        "    compute_target = ComputeTarget.create(ws, 'cpucluster', compute_config)\r\n",
        "\r\n",
        "    compute_target.wait_for_completion(show_output=True)"
      ],
      "outputs": [],
      "metadata": {
        "gather": {
          "logged": 1626988835502
        }
      }
    },
    {
      "cell_type": "markdown",
      "source": [
        "# Machine Learning"
      ],
      "metadata": {}
    },
    {
      "cell_type": "markdown",
      "source": [
        "![automl](./automl.gif)"
      ],
      "metadata": {}
    },
    {
      "cell_type": "markdown",
      "source": [
        "## Instantiate an Automated ML Config\r\n",
        "\r\n",
        "Before the execution of an Automated ML run, the `AutoMLConfig` should be setup. `AutoMLConfig` is a configuration object that contains and persists the parameters for configuring the experiment run parameters. This configuration is a key element in the execution of the run since it defines things such as the number of iterations and primary metric to optimize on. In the example below the run will be setup to execute a regression task with 25 iterations and using `accuracy` as primary metric.\r\n",
        "\r\n",
        "For more information on **AutoMLConfig**, please visit: [Microsoft AutoMLConfig Documentation](https://docs.microsoft.com/en-us/python/api/azureml-train-automl/azureml.train.automl.automlconfig?view=azure-ml-py)"
      ],
      "metadata": {}
    },
    {
      "cell_type": "code",
      "execution_count": 16,
      "source": [
        "from azureml.train.automl import AutoMLConfig\r\n",
        "\r\n",
        "training_data, validation_data = tabular.random_split(percentage=0.9, seed=1)\r\n",
        "\r\n",
        "automl_config = AutoMLConfig(task = 'classification',\r\n",
        "                             iterations = 3,\r\n",
        "                             iteration_timeout_minutes = 30, \r\n",
        "                             max_cores_per_iteration = 10,\r\n",
        "                             primary_metric = 'accuracy',\r\n",
        "                             debug_log = 'automl.log',\r\n",
        "                             training_data = training_data,\r\n",
        "                             validation_data = validation_data,\r\n",
        "                             label_column_name = \"ArrDelay15\",\r\n",
        "                             compute_target = compute_target,\r\n",
        "                             path = project_folder,\r\n",
        "                             model_explainability = True,\r\n",
        "                             experiment_exit_score = 0.8,\r\n",
        "                             enable_early_stopping = True,\r\n",
        "                             enable_onnx_compatible_models=True)"
      ],
      "outputs": [],
      "metadata": {
        "gather": {
          "logged": 1626988836123
        }
      }
    },
    {
      "cell_type": "markdown",
      "source": [
        "## Run our Experiment on AML Compute\r\n",
        "\r\n",
        "The Experiment constructor allows to create an experiment instance. The constructor takes in the current workspace, which is fetched by calling `Workspace.from_config()` and an experiment name. \r\n",
        "\r\n",
        "The `experiment.submit()` function is called to send the experiment for execution. The only parameter received by this function is the `AutoMLConfig` object instantiated previously in this module.\r\n",
        "\r\n",
        "For more information on **Experiment**, please visit: [Microsoft Experiment Documentation](https://docs.microsoft.com/en-us/python/api/azureml-core/azureml.core.experiment.experiment?view=azure-ml-py)"
      ],
      "metadata": {}
    },
    {
      "cell_type": "code",
      "execution_count": null,
      "source": [
        "from azureml.core.experiment import Experiment\r\n",
        "\r\n",
        "# Get an instance of the Workspace from the config file\r\n",
        "ws = Workspace.from_config()\r\n",
        "\r\n",
        "# Create Experiment\r\n",
        "experiment = Experiment(ws, 'flight-delay-exp')\r\n",
        "\r\n",
        "remote_run = experiment.submit(automl_config, show_output=False)\r\n",
        "remote_run"
      ],
      "outputs": [],
      "metadata": {
        "gather": {
          "logged": 1626988846213
        }
      }
    },
    {
      "cell_type": "markdown",
      "source": [
        "## Display Automated ML Run Details\r\n",
        "\r\n",
        "The creation of an object of type `AutoMLRun` will enable us to observe the experiment progress and results. The object is created by calling the constructor `AutoMLRun()`. It takes as arguments the experiment and the identifier of the run to fetch. After the object has been instantiated, the `RunDetails()` function will retrieve the progress, metrics, and tasks for the specified run. They will be displayed by calling the function `show()` over the mentioned object.\r\n",
        "\r\n",
        "For more information on **AutoMLRun**, please visit: [Microsoft AutoMLRun Documentation](https://docs.microsoft.com/en-us/python/api/azureml-train-automl/azureml.train.automl.run.automlrun?view=azure-ml-py)\r\n",
        "\r\n",
        "For more information on **RunDetails**, please visit: [Microsoft RunDetails Documentation](https://docs.microsoft.com/en-us/python/api/azureml-widgets/azureml.widgets.rundetails?view=azure-ml-py)\r\n",
        "\r\n",
        "\r\n",
        "**Note:** Please wait for the execution of the cell to finish before moving forward. (Status should be **Completed**)"
      ],
      "metadata": {}
    },
    {
      "cell_type": "code",
      "execution_count": null,
      "source": [
        "from azureml.train.automl.run import AutoMLRun \r\n",
        "from azureml.widgets import RunDetails\r\n",
        "from azureml.core.experiment import Experiment\r\n",
        "\r\n",
        "experiment = Experiment(ws, 'flight-delay-exp')\r\n",
        "remote_run = AutoMLRun(experiment=experiment, run_id=remote_run.id)\r\n",
        "\r\n",
        "RunDetails(remote_run).show()"
      ],
      "outputs": [],
      "metadata": {
        "gather": {
          "logged": 1626988850024
        }
      }
    },
    {
      "cell_type": "markdown",
      "source": [
        "## Show best run\r\n",
        "\r\n",
        "Select the best model from your iterations. The `get_output` function returns the best run and the fitted model for the last fit invocation. By using the overloads on get_output, you can retrieve the best run and fitted model for any logged metric or a particular iteration."
      ],
      "metadata": {}
    },
    {
      "cell_type": "code",
      "execution_count": null,
      "source": [
        "remote_run.wait_for_completion()\r\n",
        "best_run, fitted_model = remote_run.get_output()\r\n",
        "print(best_run)"
      ],
      "outputs": [],
      "metadata": {
        "gather": {
          "logged": 1626989433787
        }
      }
    },
    {
      "cell_type": "markdown",
      "source": [
        "## Show best model type\n",
        "\n",
        "Models generated by AutoML are not black boxes and can be inspected."
      ],
      "metadata": {}
    },
    {
      "cell_type": "code",
      "execution_count": null,
      "source": [
        "fitted_model.pipeline.steps[1]"
      ],
      "outputs": [],
      "metadata": {
        "gather": {
          "logged": 1626989434031
        }
      }
    },
    {
      "cell_type": "markdown",
      "source": [
        "## Class balancing detection\r\n",
        "\r\n",
        "Imbalanced data is commonly found in data for machine learning classification scenarios, and refers to data that contains a disproportionate ratio of observations in each class. This imbalance can lead to a falsely perceived positive effect of a model's accuracy, because the input data has bias towards one class, which results in the trained model to mimic that bias.\r\n",
        "\r\n",
        "`get_guardraild()` = Function which prints and returns detailed results from running Guardrail verification."
      ],
      "metadata": {}
    },
    {
      "cell_type": "code",
      "execution_count": null,
      "source": [
        "guardrails = remote_run.get_guardrails()"
      ],
      "outputs": [],
      "metadata": {
        "gather": {
          "logged": 1626989434255
        }
      }
    },
    {
      "cell_type": "markdown",
      "source": [
        "## Feature Engineering\n",
        "\n",
        "In Azure Machine Learning, data-scaling and normalization techniques are applied to make feature engineering easier. Collectively, these techniques and this feature engineering are called featurization in automated machine learning, or AutoML, experiments.\n",
        "\n",
        "Automated ML makes it transparent to get this information from the fitted_model output from automated ML.\n",
        "\n",
        "By calling `get_featurization_summary()` we will be able to retrieve the featurization summary for all the input features."
      ],
      "metadata": {}
    },
    {
      "cell_type": "code",
      "execution_count": null,
      "source": [
        "import pandas as pd\r\n",
        "feature_engineered_sum = pd.DataFrame(fitted_model.named_steps['datatransformer'].get_featurization_summary())\r\n",
        "feature_engineered_sum"
      ],
      "outputs": [],
      "metadata": {
        "gather": {
          "logged": 1626989434443
        }
      }
    },
    {
      "cell_type": "markdown",
      "source": [
        "## Engineered Features Importance\n",
        "\n",
        "The ExplanationClient object defines the client that uploads and downloads explanations. The best run is passed as an argument, and from it the explanations are stored as raw_explanations.\n",
        "\n",
        "For more information on **ExplanationClient**, please visit: [Microsoft ExplanationClient Class Documentation](https://docs.microsoft.com/en-us/python/api/azureml-interpret/azureml.interpret.explanationclient?view=azure-ml-py)"
      ],
      "metadata": {}
    },
    {
      "cell_type": "code",
      "execution_count": null,
      "source": [
        "import matplotlib.pyplot as plt\r\n",
        "from azureml.interpret import ExplanationClient\r\n",
        "import seaborn as sns\r\n",
        "\r\n",
        "client = ExplanationClient.from_run(best_run)"
      ],
      "outputs": [],
      "metadata": {
        "gather": {
          "logged": 1626989434777
        }
      }
    },
    {
      "cell_type": "markdown",
      "source": [
        "## Raw Features Importance\n",
        "\n",
        "The `download_model_explanation()` function downloads a model explanation that has been stored in run history.\n",
        "\n",
        "The  `get_feature_importance_dict()` function prints out a dictionary that holds the top feature names and values"
      ],
      "metadata": {}
    },
    {
      "cell_type": "code",
      "execution_count": null,
      "source": [
        "raw_explanations = client.download_model_explanation(raw=True)\r\n",
        "summ = pd.DataFrame(raw_explanations.get_feature_importance_dict(), index = ['Importance'])\r\n",
        "with sns.plotting_context('notebook', font_scale=1.4):\r\n",
        "    plt.subplots(figsize=(13,9))\r\n",
        "    sns.barplot(data=summ.iloc[:10,:10], orient='h').set_title('Raw Explanations Feature Importance')"
      ],
      "outputs": [],
      "metadata": {
        "gather": {
          "logged": 1626989557027
        }
      }
    },
    {
      "cell_type": "code",
      "execution_count": null,
      "source": [
        "print(\"You can visualize the engineered explanations under the 'Explanations' tab in the AutoML run at:\\n\" + best_run.get_portal_url())"
      ],
      "outputs": [],
      "metadata": {
        "gather": {
          "logged": 1626989557409
        }
      }
    },
    {
      "cell_type": "markdown",
      "source": [
        "# Responsible ML\n",
        "\n",
        "## InterpretML\n",
        "\n",
        "Interpretability is critical for data scientists, auditors, and business decision makers alike to ensure compliance with company policies, industry standards, and government regulations\n",
        "\n",
        "Using the classes and methods in the SDK, you can:\n",
        "\n",
        "* Explain model prediction by generating feature importance values for the entire model and/or individual datapoints.\n",
        "* Achieve model interpretability on real-world datasets at scale, during training and inference.\n",
        "* Use an interactive visualization dashboard to discover patterns in data and explanations at training time\n",
        "\n",
        "As our next step we will retrieve our trained model and instantiate the Explainability Dashboard with the data we encoded above.\n",
        "\n",
        "After the Explainability Dashboard has loaded you will be able to navigate through the user interface to identify the most important features of your new model."
      ],
      "metadata": {}
    },
    {
      "cell_type": "code",
      "execution_count": null,
      "source": [
        "import joblib\r\n",
        "from interpret_community.widget import ExplanationDashboard\r\n",
        "from azureml.interpret import ExplanationClient\r\n",
        "\r\n",
        "best_run.download_file('outputs/model.pkl')\r\n",
        "model_testing = joblib.load('model.pkl')\r\n",
        "\r\n",
        "explanations = client.download_model_explanation(raw=True)\r\n",
        "\r\n",
        "val = validation_data.to_pandas_dataframe()\r\n",
        "val = val.drop(columns=['ArrDelay15'])\r\n",
        "ExplanationDashboard(explanations, model_testing, datasetX=val)"
      ],
      "outputs": [],
      "metadata": {
        "gather": {
          "logged": 1626989590282
        }
      }
    },
    {
      "cell_type": "markdown",
      "source": [
        "## Fairlearn\n",
        "\n",
        "Artificial intelligence and machine learning systems can display unfair behavior.\n",
        "\n",
        "Let's use Fairlearn open-source Python package with Azure Machine Learning to perform the following tasks:\n",
        "\n",
        "* Assess the fairness of your model predictions. To learn more about fairness in machine learning, see the fairness in machine learning article.\n",
        "* Upload, list and download fairness assessment insights to/from Azure Machine Learning studio.\n",
        "* See a fairness assessment dashboard in Azure Machine Learning studio to interact with your model(s)' fairness insights."
      ],
      "metadata": {}
    },
    {
      "cell_type": "code",
      "execution_count": 28,
      "source": [
        "from sklearn.preprocessing import LabelEncoder\r\n",
        "\r\n",
        "le = LabelEncoder()\r\n",
        "Y = le.fit_transform(data['ArrDelay15'].values)\r\n",
        "\r\n",
        "X_train = data.drop(columns=['ArrDelay15'])\r\n",
        "X_test = data.drop(columns=['ArrDelay15'])\r\n",
        "Y_train = Y\r\n",
        "A_test = data['UniqueCarrier'].to_frame()\r\n",
        "Y_test = Y"
      ],
      "outputs": [],
      "metadata": {
        "gather": {
          "logged": 1626989628755
        }
      }
    },
    {
      "cell_type": "markdown",
      "source": [
        "## Display Fairlearn Dashboard\n",
        "\n",
        "Let's assess how a model’s predictions impact different groups, and also for comparing multiple models along different fairness and performance metrics.\n",
        "\n",
        "The FairlearnDashboard class, wraps the dashboard component."
      ],
      "metadata": {
        "nteract": {
          "transient": {
            "deleting": false
          }
        }
      }
    },
    {
      "cell_type": "code",
      "execution_count": null,
      "source": [
        "from fairlearn.widget import FairlearnDashboard\r\n",
        "\r\n",
        "model_2 = model_testing.fit(X_train, Y_train)\r\n",
        "preds = model_testing.predict(X_test)\r\n",
        "\r\n",
        "FairlearnDashboard(sensitive_features=A_test,\r\n",
        "                   sensitive_feature_names=['UniqueCarrier'],\r\n",
        "                   y_true=Y_test.tolist(),\r\n",
        "                   y_pred=[preds.tolist()])"
      ],
      "outputs": [],
      "metadata": {
        "gather": {
          "logged": 1626989706319
        }
      }
    },
    {
      "cell_type": "markdown",
      "source": [
        "# Register Model\n",
        "\n",
        "Next, register the model obtained from the best run. In order to register the model, the function `register_model()` should be called. This will take care of registering the model obtained from the best run."
      ],
      "metadata": {}
    },
    {
      "cell_type": "code",
      "execution_count": null,
      "source": [
        "# register the model for deployment\r\n",
        "model = best_run.register_model(model_name='flight_delay_weather', \r\n",
        "                                model_path='outputs/model.pkl',\r\n",
        "                                datasets=[(Dataset.Scenario.TRAINING, tabular)],\r\n",
        "                                description='This model was developed by researchers at OpenAI to help us understand how the capabilities of language model capabilities scale as a function of the size of the models',\r\n",
        "                       tags={'title': 'Flight Delay Model',\r\n",
        "    'datasheet_description':\r\n",
        "\"\"\"\r\n",
        "Last updated: October 2020\r\n",
        "\r\n",
        "Based on dataset from by [Statistical Computing Statistical Graphics](http://stat-computing.org/dataexpo/2009/the-data.html)\r\n",
        "\r\n",
        "\"\"\",\r\n",
        "    'details': 'This model was developed for Microsoft.',\r\n",
        "    'date': 'October 2020, trained on data that cuts off at the end of 2008.', \r\n",
        "    'type': 'Classification model',\r\n",
        "    'version': '1.0',\r\n",
        "    'help': 'https://www.azure.com/',\r\n",
        "    'usecase_primary': \r\n",
        "\"\"\"\r\n",
        "Developed for Flight Delay Demo.\r\n",
        "\r\n",
        "\"\"\",\r\n",
        "    'usecase_secondary':\r\n",
        "\"\"\"\r\n",
        "Field demos and marketing.\r\n",
        "\r\n",
        "\"\"\",\r\n",
        "    'usecase_outofscope':\r\n",
        "\"\"\"\r\n",
        "Do not use for production environments.\r\n",
        "\r\n",
        "\"\"\",\r\n",
        "    'dataset_description':\r\n",
        "\"\"\"\r\n",
        "The data comes originally from RITA where it is described in detail. You can download the data there, or from the bzipped csv files listed below. These files have derivable variables removed, are packaged in yearly chunks and have been more heavily compressed than the originals.\r\n",
        "\r\n",
        "\"\"\",\r\n",
        "    'motivation': 'Demo the main features behind the Azure ML Workspace environment',\r\n",
        "    'caveats':\r\n",
        "\"\"\"\r\n",
        "\"\"\"})\r\n",
        "\r\n",
        "print(\"Model name: \" + model.name, \"Model version: \" + str(model.version), sep=\"\\n\")"
      ],
      "outputs": [],
      "metadata": {
        "gather": {
          "logged": 1626989706670
        }
      }
    },
    {
      "cell_type": "markdown",
      "source": [
        "## Upload Fairlearn Dashboard to run\n",
        "\n",
        "Create a dashboard dictionary using Fairlearn's metrics package. The `_create_group_metric_set` method has arguments similar to the Dashboard constructor, except that the sensitive features are passed as a dictionary (to ensure that names are available)."
      ],
      "metadata": {}
    },
    {
      "cell_type": "code",
      "execution_count": 31,
      "source": [
        "from fairlearn.metrics._group_metric_set import _create_group_metric_set\r\n",
        "\r\n",
        "#  Create a dictionary of model(s) you want to assess for fairness \r\n",
        "sf = { 'UniqueCarrier': A_test.UniqueCarrier }\r\n",
        "ys_pred = { model.id: model_testing.predict(X_test) }\r\n",
        "\r\n",
        "dash_dict = _create_group_metric_set(y_true=Y_test,\r\n",
        "                                    predictions=ys_pred,\r\n",
        "                                    sensitive_features=sf,\r\n",
        "                                    prediction_type='binary_classification')"
      ],
      "outputs": [],
      "metadata": {
        "gather": {
          "logged": 1626989760880
        }
      }
    },
    {
      "cell_type": "markdown",
      "source": [
        "Now we can fetch the Experiment, then a Run, and upload our dashboard to it:"
      ],
      "metadata": {
        "nteract": {
          "transient": {
            "deleting": false
          }
        }
      }
    },
    {
      "cell_type": "code",
      "execution_count": null,
      "source": [
        "from azureml.contrib.fairness import upload_dashboard_dictionary, download_dashboard_by_upload_id\r\n",
        "\r\n",
        "run = experiment.start_logging(snapshot_directory=None)\r\n",
        "try:\r\n",
        "    dashboard_title = \"Fairness in Flight Delay Classifier\"\r\n",
        "    upload_id = upload_dashboard_dictionary(run,\r\n",
        "                                        dash_dict,\r\n",
        "                                        dashboard_name=dashboard_title)\r\n",
        "    print(\"\\nUploaded to id: {0}\\n\".format(upload_id))\r\n",
        "\r\n",
        "    downloaded_dict = download_dashboard_by_upload_id(run, upload_id)\r\n",
        "    \r\n",
        "    \r\n",
        "finally:\r\n",
        "    run.complete()"
      ],
      "outputs": [],
      "metadata": {
        "gather": {
          "logged": 1626989766821
        }
      }
    },
    {
      "cell_type": "markdown",
      "source": [
        "# Deployment\n",
        "\n",
        "## Create managed-endpoints directory\n",
        "\n",
        "Create a new directory to hold the configuration files for deploying a managed endpoint."
      ],
      "metadata": {}
    },
    {
      "cell_type": "code",
      "execution_count": null,
      "source": [
        "import os\r\n",
        "\r\n",
        "managed_endpoints = './managed-endpoints'\r\n",
        "\r\n",
        "# Working directory\r\n",
        "if not os.path.exists(managed_endpoints):\r\n",
        "    os.makedirs(managed_endpoints)\r\n",
        "    \r\n",
        "if os.path.exists(os.path.join(managed_endpoints,\".amlignore\")):\r\n",
        "  os.remove(os.path.join(managed_endpoints,\".amlignore\"))"
      ],
      "outputs": [],
      "metadata": {}
    },
    {
      "cell_type": "markdown",
      "source": [
        "## Create Scoring File\n",
        "\n",
        "Creating the scoring file is next step before deploying the service. This file is responsible for the actual generation of predictions using the model. The values or scores generated can represent predictions of future values, but they might also represent a likely category or outcome.\n",
        "\n",
        "The first thing to do in the scoring file is to fetch the model. This is done by calling `Model.get_model_path()` and passing the model name as a parameter.\n",
        "\n",
        "After the model has been loaded, the function `model.predict()` function should be called to start the scoring process.\n",
        "\n",
        "For more information on **Machine Learning - Score**, please visit: [Microsoft Machine Learning - Score Documentation](https://docs.microsoft.com/en-us/azure/machine-learning/studio-module-reference/machine-learning-score)"
      ],
      "metadata": {}
    },
    {
      "cell_type": "code",
      "execution_count": null,
      "source": [
        "%%writefile $managed_endpoints/score.py\r\n",
        "import os\r\n",
        "import pickle\r\n",
        "import json\r\n",
        "import joblib\r\n",
        "import time\r\n",
        "import numpy as np\r\n",
        "import pandas as pd\r\n",
        "import azureml.automl.core\r\n",
        "from azureml.core.model import Model\r\n",
        " \r\n",
        "def init():\r\n",
        "    global model\r\n",
        "    print (\"model initialized\" + time.strftime(\"%H:%M:%S\"))\r\n",
        "    model_path = os.path.join(os.getenv(\"AZUREML_MODEL_DIR\"), \"model.pkl\")\r\n",
        "    model = joblib.load(model_path)\r\n",
        "    \r\n",
        "def run(data):\r\n",
        "    try:\r\n",
        "        data = json.loads(data)[\"data\"]\r\n",
        "        df = pd.DataFrame(data, columns=['Month', 'DayofMonth', 'DayOfWeek', 'CRSDepTime', 'CRSArrTime', 'UniqueCarrier', 'CRSElapsedTime', 'Origin', 'Dest', 'Distance', 'Origin_Lat', 'Origin_Lon', 'Origin_State', 'Dest_Lat', 'Dest_Lon', 'Dest_State', 'Origin_dayl', 'Dest_dayl', 'Origin_prcp', 'Dest_prcp', 'Origin_srad', 'Dest_srad', 'Origin_swe', 'Dest_swe', 'Origin_tmax', 'Dest_tmax', 'Origin_tmin', 'Dest_tmin', 'Origin_vp', 'Dest_vp']) \r\n",
        "        result = model.predict(df)\r\n",
        "    except Exception as e:\r\n",
        "        result = str(e)\r\n",
        "        return {\"error\": result}\r\n",
        "    return {\"result\":result.tolist()}"
      ],
      "outputs": [],
      "metadata": {}
    },
    {
      "cell_type": "markdown",
      "source": [
        "## Create the environment definition\r\n",
        "\r\n",
        "The following file contains the details of the environment to host the model and code. "
      ],
      "metadata": {}
    },
    {
      "cell_type": "code",
      "execution_count": null,
      "source": [
        "%%writefile $managed_endpoints/score-new.yml\n",
        "name: fd-endpoint-managed-env\n",
        "dependencies:\n",
        "- python=3.6.2\n",
        "- pip:\n",
        "  - azureml-sdk[notebooks,automl]~=1.32.0\n",
        "  - azureml-defaults~=1.32.0\n",
        "  - inference-schema\n",
        "  - azureml-monitoring\n",
        "  - shap==0.39.0\n",
        "- numpy\n",
        "- scikit-learn==0.22.1\n",
        "channels:\n",
        "- anaconda\n",
        "- conda-forge"
      ],
      "outputs": [],
      "metadata": {}
    },
    {
      "cell_type": "markdown",
      "source": [
        "## Define the endpoint configuration\r\n",
        "Specific inputs are required to deploy a model on an online endpoint:\r\n",
        "\r\n",
        "1. Model files.\r\n",
        "1. The code that's required to score the model.\r\n",
        "1. An environment in which your model runs.\r\n",
        "1. Settings to specify the instance type and scaling capacity."
      ],
      "metadata": {}
    },
    {
      "cell_type": "code",
      "execution_count": null,
      "source": [
        "%%writefile $managed_endpoints/endpointconfig.yml\r\n",
        "name: fd-endpoint-managed\r\n",
        "type: online\r\n",
        "auth_mode: key\r\n",
        "traffic:\r\n",
        "  blue: 100\r\n",
        "\r\n",
        "deployments:\r\n",
        "  #blue deployment\r\n",
        "  - name: blue\r\n",
        "    model: azureml:flight_delay_weather:1\r\n",
        "    code_configuration:\r\n",
        "      code:\r\n",
        "        local_path: ./\r\n",
        "      scoring_script: score.py\r\n",
        "    environment: \r\n",
        "      name: fd-endpoint-managed-env\r\n",
        "      version: 1\r\n",
        "      path: ./\r\n",
        "      conda_file: file:./score-new.yml\r\n",
        "      docker:\r\n",
        "          image: mcr.microsoft.com/azureml/openmpi3.1.2-ubuntu18.04:20210727.v1\r\n",
        "    instance_type: Standard_DS3_v2\r\n",
        "    scale_settings:\r\n",
        "      scale_type: manual\r\n",
        "      instance_count: 1\r\n",
        "      min_instances: 1\r\n",
        "      max_instances: 2"
      ],
      "outputs": [],
      "metadata": {}
    },
    {
      "cell_type": "markdown",
      "source": [
        "## Deploy your managed online endpoint to Azure\r\n",
        "\r\n",
        "This deployment might take up to 15 minutes, depending on whether the underlying environment or image is being built for the first time. Subsequent deployments that use the same environment will finish processing more quickly."
      ],
      "metadata": {}
    },
    {
      "cell_type": "code",
      "execution_count": null,
      "source": [
        "!az ml endpoint create -g [your resource group name] -w [your AML workspace name] -n fd-managed-endpoint -f ./managed-endpoints/endpointconfig.yml"
      ],
      "outputs": [],
      "metadata": {}
    },
    {
      "cell_type": "markdown",
      "source": [
        "## Generate a sample request JSON file\n",
        "\n",
        "Export some test data to a JSON file we can send to the endpoint."
      ],
      "metadata": {}
    },
    {
      "cell_type": "code",
      "execution_count": null,
      "source": [
        "%%writefile $managed_endpoints/sample-request.json\r\n",
        "{\"data\": [\r\n",
        "[1, 30, 3, 1312, 1459, \"DL\", 287, \"CVG\", \"LAX\", 1900, 39.04614278, -84.6621725, \"KY\", 33.94253611, -118.4080744, \"CA\", 35942.4, 36979.2, 9.0, 0.0, 268.8, 304.0, 8.0, 0.0, 5.0, 15.5, -10.5, 6.0, 280.0, 920.0],\r\n",
        "[5, 30, 5, 1920, 2202, \"OH\", 102, \"HSV\", \"DCA\", 613, 34.6404475, -86.77310944, \"AL\", 38.85208333, -77.03772222, \"VA\", 50803.2, 52185.6, 0.0, 0.0, 393.6, 499.2, 0.0, 0.0, 28.5, 26.5, 18.0, 11.5, 2080.0, 1360.0],\r\n",
        "[7, 14, 1, 1310, 1550, \"UA\", 160, \"LAX\", \"SEA\", 954, 33.94253611, -118.4080744, \"CA\", 47.44898194, -122.3093131, \"WA\", 50457.6, 55296.0, 0.0, 0.0, 441.6, 454.4, 0.0, 0.0, 27.0, 26.5, 19.0, 12.5, 840.0, 1080.0],\r\n",
        "[3, 4, 2, 1735, 2100, \"AA\", 265, \"BOS\", \"DFW\", 1562, 42.3643475, -71.00517917, \"MA\", 32.89595056, -97.0372, \"TX\", 40089.6, 41126.4, 10.0, 7.0, 316.8, 262.4, 64.0, 0.0, 14.5, 12.5, 2.0, 0.5, 720.0, 640.0],\r\n",
        "[7, 18, 5, 730, 945, \"AA\", 75, \"ORD\", \"DTW\", 235, 41.979595, -87.90446417, \"IL\", 42.21205889, -83.34883583, \"MI\", 52876.8, 52876.8, 0.0, 0.0, 329.6, 396.8, 0.0, 0.0, 31.5, 32.0, 22.5, 20.0, 2720.0, 2320.0],\r\n",
        "[10, 15, 3, 1750, 1850, \"AA\", 60, \"DFW\", \"SAT\", 247, 32.89595056, -97.0372, \"TX\", 29.53369444, -98.46977778, \"TX\", 40089.6, 40435.2, 17.0, 9.0, 172.8, 185.6, 0.0, 0.0, 25.0, 30.0, 17.0, 20.5, 1920.0, 2400.0],\r\n",
        "[5, 14, 3, 1835, 1928, \"US\", 53, \"BWI\", \"PHL\", 90, 39.17540167, -76.66819833, \"MD\", 39.87195278, -75.24114083, \"PA\", 50803.2, 51148.8, 0.0, 0.0, 499.2, 505.6, 0.0, 0.0, 22.5, 24.5, 8.5, 8.5, 1120.0, 1120.0],\r\n",
        "[2, 27, 3, 1600, 1830, \"FL\", 150, \"LGA\", \"ATL\", 761, 40.77724306, -73.87260917, \"NY\", 33.64044444, -84.42694444, \"GA\", 39398.4, 40435.2, 0.0, 7.0, 352.0, 256.0, 0.0, 0.0, 7.0, 9.5, -4.0, -2.5, 440.0, 520.0],\r\n",
        "[11, 24, 1, 1837, 2015, \"OO\", 98, \"LNK\", \"ORD\", 466, 40.85097222, -96.75925, \"NE\", 41.979595, -87.90446417, \"IL\", 33868.8, 33523.2, 0.0, 2.0, 240.0, 172.8, 0.0, 0.0, 11.0, 5.0, -4.5, -2.0, 440.0, 520.0]]}"
      ],
      "outputs": [],
      "metadata": {}
    },
    {
      "cell_type": "markdown",
      "source": [
        "## Invoke the endpoint to score data by using your model\r\n",
        "\r\n",
        "You can use either the invoke command or a REST client of your choice to invoke the endpoint and score against it.\r\n"
      ],
      "metadata": {}
    },
    {
      "cell_type": "code",
      "execution_count": null,
      "source": [
        "!az ml endpoint invoke -g [your resource group name] -w [your AML workspace name] -n fd-managed-endpoint --request-file ./managed-endpoints/sample-request.json"
      ],
      "outputs": [],
      "metadata": {}
    },
    {
      "cell_type": "markdown",
      "source": [
        "## Optional: Create/connect to the Kubernetes compute cluster\r\n",
        "\r\n",
        "The `AksCompute Class` manages an Azure Kubernetes Service compute target in Azure Machine Learning.\r\n",
        "\r\n",
        "The `ComputeTarget Class` is an abstract parent class for all compute targets managed by Azure Machine Learning. A compute target is a designated compute resource/environment where you run your training script or host your service deployment. \r\n",
        "\r\n",
        "The `ComputeTargetException` is an exception related to failures when creating, interacting with, or configuring a compute target. This exception is commonly raised for failures attaching a compute target, missing headers, and unsupported configuration values.\r\n",
        "\r\n",
        "For more information on **AksCompute Class**, please visit: [Microsoft Machine Learning - AksCompute Class Documentation](https://docs.microsoft.com/en-us/python/api/azureml-core/azureml.core.compute.aks.akscompute?view=azure-ml-py)\r\n",
        "\r\n",
        "For more information on **ComputeTarget Class**, please visit: [Microsoft Machine Learning - ComputeTarget Class Documentation](https://docs.microsoft.com/en-us/python/api/azureml-core/azureml.core.compute.computetarget?view=azure-ml-py)\r\n",
        "\r\n",
        "For more information on **ComputeTargetException Class**, please visit: [Microsoft Machine Learning - ComputeTargetException Class Documentation](https://docs.microsoft.com/en-us/python/api/azureml-core/azureml.exceptions.computetargetexception?view=azure-ml-py)\r\n"
      ],
      "metadata": {}
    },
    {
      "cell_type": "markdown",
      "source": [
        "An Azure Kubernetes Service cluster is recommended for hosting the model in production."
      ],
      "metadata": {}
    },
    {
      "cell_type": "code",
      "execution_count": 34,
      "source": [
        "from azureml.core.compute import AksCompute\r\n",
        "from azureml.core.compute import ComputeTarget\r\n",
        "from azureml.exceptions import ComputeTargetException\r\n",
        "\r\n",
        "prov_config = AksCompute.provisioning_configuration(location='westus2')\r\n",
        "\r\n",
        "try:\r\n",
        "    aks_target = AksCompute(ws, 'flight-delay-aks')\r\n",
        "except ComputeTargetException:\r\n",
        "    # Create the cluster\r\n",
        "    aks_target = ComputeTarget.create(workspace = ws, \r\n",
        "                            name = 'flight-delay-aks', \r\n",
        "                            provisioning_configuration = prov_config)\r\n",
        "    aks_target.wait_for_completion(True)"
      ],
      "outputs": [],
      "metadata": {
        "gather": {
          "logged": 1626989817962
        }
      }
    },
    {
      "cell_type": "markdown",
      "source": [
        "## Optional: Deploy the model to Kubernetes\n",
        "\n",
        "The first step is to define the dependencies that are needed for the service to run and they are defined by calling `CondaDependencies.create()`. This create function will receive as parameters the pip and conda packages to install on the remote machine. Secondly, the output of this function is persisted into a `.yml` file that will be leveraged later on the process.\n",
        "\n",
        "Now that the AKS cluster has been deployed and our CondaDependencies have been declared, it’s time to create an `InferenceConfig` object by calling its constructor and passing the runtime type, the path to the `entry_script` (score.py), and the `conda_file` (the previously created file that holds the environment dependencies).\n",
        "\n",
        "Next, define the configuration of the web service to deploy. This is done by calling `AksWebservice.deploy_configuration()` and passing along the number of `cpu_cores` and `memory_gb` that the service needs.\n",
        "\n",
        "Finally, in order to deploy the model and service to the created AKS cluster, the function `Model.deploy()` should be called, passing along the workspace object, a list of models to deploy, the defined inference configuration, deployment configuration, and the AKS object created in the step above.\n",
        "\n",
        "For more information on **CondaDependencies**, please visit: [Microsoft CondaDependencies Documentation](https://docs.microsoft.com/en-us/python/api/azureml-core/azureml.core.conda_dependencies.condadependencies?view=azure-ml-py)\n",
        "\n",
        "For more information on **InferenceConfig**, please visit: [Microsoft InferenceConfig Documentation](https://docs.microsoft.com/en-us/python/api/azureml-core/azureml.core.model.inferenceconfig?view=azure-ml-py)\n",
        "\n",
        "For more information on **AksWebService**, please visit: [Microsoft AksWebService Documentation](https://docs.microsoft.com/en-us/python/api/azureml-core/azureml.core.webservice.akswebservice?view=azure-ml-py)\n",
        "\n",
        "For more information on **Model**, please visit: [Microsoft Model Documentation](https://docs.microsoft.com/en-us/python/api/azureml-core/azureml.core.model.model?view=azure-ml-py)\n",
        "\n",
        "\n",
        "**Note:** Please wait for the execution of the cell to finish before moving forward."
      ],
      "metadata": {}
    },
    {
      "cell_type": "code",
      "execution_count": null,
      "source": [
        "from azureml.exceptions import WebserviceException\r\n",
        "from azureml.core.model import InferenceConfig\r\n",
        "from azureml.core.webservice import AksWebservice\r\n",
        "from azureml.core import Model\r\n",
        "\r\n",
        "inference_config = InferenceConfig(runtime= \"python\",\r\n",
        "                                    entry_script=\"managed-endpoints/score.py\",\r\n",
        "                                    conda_file=\"managed-endpoints/score-new.yml\")\r\n",
        "\r\n",
        "deployment_config = AksWebservice.deploy_configuration(cpu_cores = 1,\r\n",
        "                                                        memory_gb = 1,\r\n",
        "                                                        collect_model_data=True,\r\n",
        "                                                        enable_app_insights=True)\r\n",
        "\r\n",
        "try:\r\n",
        "    service = AksWebservice(ws, 'fd-aml-min')\r\n",
        "    print(service.state)\r\n",
        "except WebserviceException:\r\n",
        "    service = Model.deploy(ws, \r\n",
        "                            'fd-aml-min',\r\n",
        "                            [model],\r\n",
        "                            inference_config,\r\n",
        "                            deployment_config,\r\n",
        "                            aks_target)\r\n",
        "\r\n",
        "    service.wait_for_deployment(show_output = True)\r\n",
        "    print(service.state)"
      ],
      "outputs": [],
      "metadata": {
        "gather": {
          "logged": 1626990274502
        }
      }
    },
    {
      "cell_type": "markdown",
      "source": [
        "## Connect to the deployed webservice\r\n",
        "\r\n",
        "Now with test data, we can get it into a suitable format to consume the web service. First an instance of the web service should be obtained by calling the constructor `Webservice()` with the Workspace object and the service name as parameters. Sanitizing of the data is then performed in order to avoid sending unexpected columns to the web service. Finally, call the service via POST using the `requests` module. `requests.post()` will call the deployed web service. It takes for parameters the service URL, the test data, and a headers dictionary that contains the authentication token.\r\n",
        "\r\n",
        "For more information on **Webservice**, please visit: [Microsoft Webservice Documentation](https://docs.microsoft.com/en-us/python/api/azureml-core/azureml.core.webservice?view=azure-ml-py)"
      ],
      "metadata": {}
    },
    {
      "cell_type": "code",
      "execution_count": 37,
      "source": [
        "import json\r\n",
        "import requests\r\n",
        "import pandas as pd\r\n",
        "from azureml.core.webservice import Webservice\r\n",
        "\r\n",
        "aks_service = Webservice(ws, 'fd-aml-min')\r\n",
        "\r\n",
        "# prepare the test data\r\n",
        "sample = val.sample(n=10, random_state=4).values.tolist()\r\n",
        "\r\n",
        "headers = {'Content-Type':'application/json'}\r\n",
        "\r\n",
        "if aks_service.auth_enabled:\r\n",
        "    headers['Authorization'] = 'Bearer '+ aks_service.get_keys()[0]\r\n",
        "\r\n",
        "output_df = []\r\n",
        "for x in sample:    \r\n",
        "    test_sample = json.dumps({'data': [x]})\r\n",
        "    response = requests.post(aks_service.scoring_uri, data=test_sample, headers=headers)\r\n",
        "    prediction = [response.json()['result'][0]]\r\n",
        "    prediction.extend(x)\r\n",
        "    output_df.append(prediction)"
      ],
      "outputs": [],
      "metadata": {
        "gather": {
          "logged": 1626990317364
        }
      }
    },
    {
      "cell_type": "markdown",
      "source": [
        "## Optional: Present scoring service predictions\n",
        "\n",
        "Let's format our service responses and present them in a suitable way for our end users."
      ],
      "metadata": {}
    },
    {
      "cell_type": "code",
      "execution_count": null,
      "source": [
        "def highlight_delays(val):\r\n",
        "    return 'background-color: yellow' if val == True else ''\r\n",
        "\r\n",
        "predictions = pd.DataFrame(output_df, columns =['Prediction', 'Month', 'DayofMonth', 'DayOfWeek', 'CRSDepTime', 'CRSArrTime', 'UniqueCarrier', 'CRSElapsedTime', 'Origin', 'Dest', 'Distance', 'Origin_Lat', 'Origin_Lon', 'Origin_State', 'Dest_Lat', 'Dest_Lon', 'Dest_State', 'Origin_dayl', 'Dest_dayl', 'Origin_prcp', 'Dest_prcp', 'Origin_srad', 'Dest_srad', 'Origin_swe', 'Dest_swe', 'Origin_tmax', 'Dest_tmax', 'Origin_tmin', 'Dest_tmin', 'Origin_vp', 'Dest_vp'])\r\n",
        "predictions = predictions.style.applymap(highlight_delays, subset=['Prediction'])\r\n",
        "predictions"
      ],
      "outputs": [],
      "metadata": {}
    },
    {
      "cell_type": "markdown",
      "source": [
        "# ML Pipelines"
      ],
      "metadata": {}
    },
    {
      "cell_type": "markdown",
      "source": [
        "![pipeline](./pipeline.gif)"
      ],
      "metadata": {}
    },
    {
      "cell_type": "markdown",
      "source": [
        "## Solution Accelerator: Many Models\n",
        "\n",
        "In the real world, many problems can be too complex to be solved by a single machine learning model. Whether that be predicting sales for each individual store, building a predictive maintanence model for hundreds of oil wells, or tailoring an experience to individual users, building a model for each instance can lead to improved results on many machine learning problems.\n",
        "\n",
        "Azure Machine Learning (AML) makes it easy to train, operate, and manage hundreds or even thousands of models."
      ],
      "metadata": {}
    },
    {
      "cell_type": "markdown",
      "source": [
        "## Split data in two sets\n",
        "\n",
        "Let's setup the path that holds the files for the individual airports and split the data into training and testing/inferencing."
      ],
      "metadata": {}
    },
    {
      "cell_type": "code",
      "execution_count": null,
      "source": [
        "from scripts.helper import split_data\r\n",
        "\r\n",
        "target_path = 'airports' \r\n",
        "os.makedirs(target_path, exist_ok=True)\r\n",
        "\r\n",
        "# Split each file and store in corresponding directory\r\n",
        "train_path, inference_path = split_data(target_path)"
      ],
      "outputs": [],
      "metadata": {
        "gather": {
          "logged": 1626969513473
        }
      }
    },
    {
      "cell_type": "markdown",
      "source": [
        "## Upload data to Datastore in AML Workspace\n",
        "\n",
        "Next step is to upload our splitted data into our Workspace default datastore."
      ],
      "metadata": {}
    },
    {
      "cell_type": "code",
      "execution_count": null,
      "source": [
        "# Connect to default datastore\r\n",
        "datastore = ws.get_default_datastore()\r\n",
        "\r\n",
        "# Upload train data\r\n",
        "ds_train_path = target_path + '_train'\r\n",
        "datastore.upload(src_dir=train_path, target_path=ds_train_path, overwrite=True)\r\n",
        "\r\n",
        "# Upload inference data\r\n",
        "ds_inference_path = target_path + '_inference'\r\n",
        "datastore.upload(src_dir=inference_path, target_path=ds_inference_path, overwrite=True)"
      ],
      "outputs": [],
      "metadata": {
        "gather": {
          "logged": 1626969514527
        }
      }
    },
    {
      "cell_type": "markdown",
      "source": [
        "## Register dataset\n",
        "\n",
        "From our datastore lets register our new file dataset."
      ],
      "metadata": {}
    },
    {
      "cell_type": "code",
      "execution_count": null,
      "source": [
        "from azureml.core.dataset import Dataset\r\n",
        "\r\n",
        "# Create file datasets\r\n",
        "ds_train = Dataset.File.from_files(path=datastore.path(ds_train_path), validate=False)\r\n",
        "ds_inference = Dataset.File.from_files(path=datastore.path(ds_inference_path), validate=False)\r\n",
        "\r\n",
        "# Register the file datasets\r\n",
        "dataset_name = 'airport_data'\r\n",
        "train_dataset_name = dataset_name + '_train'\r\n",
        "inference_dataset_name = dataset_name + '_inference'\r\n",
        "ds_train.register(ws, train_dataset_name, create_new_version=True)\r\n",
        "ds_inference.register(ws, inference_dataset_name, create_new_version=True)"
      ],
      "outputs": [],
      "metadata": {
        "gather": {
          "logged": 1626969515729
        }
      }
    },
    {
      "cell_type": "markdown",
      "source": [
        "## Create Experiment\n",
        "\n",
        "Afterwards lets setup a new Experiment for our Pipeline."
      ],
      "metadata": {}
    },
    {
      "cell_type": "code",
      "execution_count": null,
      "source": [
        "from azureml.core import Experiment\r\n",
        "\r\n",
        "experiment = Experiment(ws, 'manymodels-training-pipeline')\r\n",
        "\r\n",
        "print('Experiment name: ' + experiment.name)"
      ],
      "outputs": [],
      "metadata": {
        "gather": {
          "logged": 1626969516506
        }
      }
    },
    {
      "cell_type": "markdown",
      "source": [
        "## Fetch registered dataset\n",
        "\n",
        "Fetch the training and testing data from the Workspace Dataset registry."
      ],
      "metadata": {}
    },
    {
      "cell_type": "code",
      "execution_count": null,
      "source": [
        "from azureml.core.dataset import Dataset\r\n",
        "\r\n",
        "filedst_5_models = Dataset.get_by_name(ws, name='airport_data_train')\r\n",
        "filedst_5_models_input = filedst_5_models.as_named_input('train_5_models')"
      ],
      "outputs": [],
      "metadata": {
        "gather": {
          "logged": 1626969517442
        }
      }
    },
    {
      "cell_type": "markdown",
      "source": [
        "## Build the training pipeline\n",
        "\n",
        "This dictionary defines the AutoML settings."
      ],
      "metadata": {}
    },
    {
      "cell_type": "code",
      "execution_count": null,
      "source": [
        "import logging\r\n",
        "from scripts.helper import write_automl_settings_to_file\r\n",
        "\r\n",
        "automl_settings = {\r\n",
        "    \"task\" : 'classification',\r\n",
        "    \"primary_metric\" : 'accuracy',\r\n",
        "    \"iteration_timeout_minutes\" : 30,\r\n",
        "    \"iterations\" : 25,\r\n",
        "    \"label_column_name\" : 'ArrDelay15',\r\n",
        "    \"verbosity\" : logging.INFO, \r\n",
        "    \"debug_log\": 'automl_many_models_debug.txt',\r\n",
        "    \"experiment_exit_score\": 0.8\r\n",
        "}\r\n",
        "\r\n",
        "write_automl_settings_to_file(automl_settings)"
      ],
      "outputs": [],
      "metadata": {
        "gather": {
          "logged": 1626969518135
        }
      }
    },
    {
      "cell_type": "markdown",
      "source": [
        "## Set up environment  for ParallelRunStep\n",
        "\n",
        "\n",
        "Environment defines a collection of resources that we will need to run our pipelines. We configure a reproducible Python environment for our training script."
      ],
      "metadata": {}
    },
    {
      "cell_type": "code",
      "execution_count": null,
      "source": [
        "from scripts.helper import get_automl_environment\r\n",
        "train_env = get_automl_environment(workspace=ws, automl_settings_dict=automl_settings)"
      ],
      "outputs": [],
      "metadata": {
        "gather": {
          "logged": 1626969518831
        }
      }
    },
    {
      "cell_type": "markdown",
      "source": [
        "## Set up ParallelRunConfig\n",
        "\n",
        "ParallelRunConfig is configuration for parallel run step. You will need to determine the number of workers and nodes appropriate for your use case. The process_count_per_node is based off the number of cores of the compute VM. The node_count will determine the number of master nodes to use, increasing the node count will speed up the training process.\n",
        "\n",
        "node_count: The number of compute nodes to be used for running the user script. We recommend to start with 3 and increase the node_count if the training time is taking too long.\n",
        "\n",
        "process_count_per_node: The number of processes per node.\n",
        "\n",
        "run_invocation_timeout: The run() method invocation timeout in seconds. The timeout should be set to maximum training time of one AutoML run(with some buffer), by default it's 60 seconds."
      ],
      "metadata": {}
    },
    {
      "cell_type": "code",
      "execution_count": null,
      "source": [
        "from scripts.helper import build_parallel_run_config\r\n",
        "\r\n",
        "node_count=1\r\n",
        "process_count_per_node=6\r\n",
        "run_invocation_timeout=3700\r\n",
        "\r\n",
        "parallel_run_config = build_parallel_run_config(train_env, compute_target, node_count, process_count_per_node, run_invocation_timeout)"
      ],
      "outputs": [],
      "metadata": {
        "gather": {
          "logged": 1626969519496
        }
      }
    },
    {
      "cell_type": "markdown",
      "source": [
        "## Setup Pipeline output path\n",
        "\n",
        "This ParallelRunStep is the main step in our pipeline. First, we set up the output directory and define the Pipeline's output name. The datastore that stores the pipeline's output data is Workspace's default datastore."
      ],
      "metadata": {}
    },
    {
      "cell_type": "code",
      "execution_count": null,
      "source": [
        "from azureml.pipeline.core import PipelineData\r\n",
        "\r\n",
        "training_output_name = \"training_output\"\r\n",
        "\r\n",
        "output_dir = PipelineData(name=training_output_name, \r\n",
        "                          datastore=datastore)"
      ],
      "outputs": [],
      "metadata": {
        "gather": {
          "logged": 1626969520157
        }
      }
    },
    {
      "cell_type": "markdown",
      "source": [
        "## Instantiate ParallelRunStep\n",
        "\n",
        "We specify the following parameters:\n",
        "\n",
        "**name**: We set a name for our ParallelRunStep.\n",
        "\n",
        "**parallel_run_config**: We then pass the previously defined ParallelRunConfig.\n",
        "\n",
        "**allow_reuse**: Indicates whether the step should reuse previous results when re-run with the same settings.\n",
        "\n",
        "**inputs**: We are going to use the registered FileDataset that we called earlier in the Notebook. inputs points to a registered file dataset in AML studio that points to a path in the blob container. The number of files in that path determines the number of models will be trained in the ParallelRunStep.\n",
        "\n",
        "**output**: The output directory we just defined. A PipelineData object that corresponds to the output directory.\n",
        "\n",
        "**models**: Zero or more model names already registered in the Azure Machine Learning model registry."
      ],
      "metadata": {}
    },
    {
      "cell_type": "code",
      "execution_count": null,
      "source": [
        "from azureml.pipeline.steps import ParallelRunStep\r\n",
        "\r\n",
        "parallel_run_step = ParallelRunStep(\r\n",
        "    name=\"many-models-training\",\r\n",
        "    parallel_run_config=parallel_run_config,\r\n",
        "    allow_reuse = False,\r\n",
        "    inputs=[filedst_5_models_input], # train 10 models\r\n",
        "    output=output_dir)"
      ],
      "outputs": [],
      "metadata": {
        "gather": {
          "logged": 1626969521085
        }
      }
    },
    {
      "cell_type": "markdown",
      "source": [
        "## Submit the pipeline to run\n",
        "\n",
        "Next we submit our pipeline to run."
      ],
      "metadata": {}
    },
    {
      "cell_type": "code",
      "execution_count": null,
      "source": [
        "from azureml.pipeline.core import Pipeline\r\n",
        "from azureml.widgets import RunDetails\r\n",
        "from azureml.core.run import Run\r\n",
        "\r\n",
        "pipeline = Pipeline(workspace=ws, steps=parallel_run_step)\r\n",
        "run = experiment.submit(pipeline)\r\n",
        "RunDetails(run).show()"
      ],
      "outputs": [],
      "metadata": {
        "gather": {
          "logged": 1626969527605
        }
      }
    },
    {
      "cell_type": "code",
      "execution_count": null,
      "source": [
        "run.wait_for_completion(show_output=True)"
      ],
      "outputs": [],
      "metadata": {
        "gather": {
          "logged": 1626971694285
        }
      }
    },
    {
      "cell_type": "markdown",
      "source": [
        "## Get list of AutoML runs along with registered model names and tags\n",
        "\n",
        "The following code snippet will iterate through all the automl runs for the experiment and list the details."
      ],
      "metadata": {}
    },
    {
      "cell_type": "code",
      "execution_count": null,
      "source": [
        "from scripts.helper import get_training_output\r\n",
        "import os\r\n",
        "import pandas as pd\r\n",
        "\r\n",
        "training_results_name = \"training_results\"\r\n",
        "\r\n",
        "training_file = get_training_output(run, training_results_name, training_output_name)\r\n",
        "all_columns = [\"Framework\", \"Dataset\", \"Run\", \"Status\", \"Model\", \"Tags\", \"StartTime\", \"EndTime\" , \"ErrorType\", \"ErrorCode\", \"ErrorMessage\" ]\r\n",
        "df = pd.read_csv(training_file, delimiter=\" \", header=None, names=all_columns)\r\n",
        "training_csv_file = \"training.csv\"\r\n",
        "df.to_csv(training_csv_file)\r\n",
        "df[['Framework','Dataset','Run','Status','Model','StartTime','EndTime']]"
      ],
      "outputs": [],
      "metadata": {
        "gather": {
          "logged": 1626971697112
        }
      }
    },
    {
      "cell_type": "markdown",
      "source": [
        "## Publish the pipeline\n",
        "\n",
        "Publish the pipeline for easy re-execution."
      ],
      "metadata": {}
    },
    {
      "cell_type": "code",
      "execution_count": null,
      "source": [
        "published_pipeline = pipeline.publish(name = 'fd_train_many_models',\r\n",
        "                                      description = 'Flight Delay - train many models',\r\n",
        "                                      version = '1',\r\n",
        "                                      continue_on_step_failure = False)"
      ],
      "outputs": [],
      "metadata": {
        "gather": {
          "logged": 1626972232939
        }
      }
    }
  ],
  "metadata": {
    "kernel_info": {
      "name": "python3-azureml"
    },
    "kernelspec": {
      "name": "python3-azureml",
      "language": "python",
      "display_name": "Python 3.6 - AzureML"
    },
    "language_info": {
      "name": "python",
      "version": "3.6.9",
      "mimetype": "text/x-python",
      "codemirror_mode": {
        "name": "ipython",
        "version": 3
      },
      "pygments_lexer": "ipython3",
      "nbconvert_exporter": "python",
      "file_extension": ".py"
    },
    "microsoft": {
      "host": {
        "AzureML": {
          "notebookHasBeenCompleted": true
        }
      }
    },
    "nteract": {
      "version": "nteract-front-end@1.0.0"
    }
  },
  "nbformat": 4,
  "nbformat_minor": 2
}
